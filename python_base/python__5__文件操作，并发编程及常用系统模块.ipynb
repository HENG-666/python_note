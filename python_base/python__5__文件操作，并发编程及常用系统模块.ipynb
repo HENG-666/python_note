{
 "cells": [
  {
   "cell_type": "markdown",
   "metadata": {},
   "source": [
    "## (五)文件操作，并发编程及常用系统模块"
   ]
  },
  {
   "cell_type": "markdown",
   "metadata": {},
   "source": [
    "### 1. 文本文件读写\n"
   ]
  },
  {
   "cell_type": "code",
   "execution_count": 2,
   "metadata": {},
   "outputs": [
    {
     "name": "stdout",
     "output_type": "stream",
     "text": [
      "text\n"
     ]
    }
   ],
   "source": [
    "#  r = read, w = write, a = append, b = binary, +表示文件不存在就创建\n",
    "f=open('/Users/admin/test/text.txt','r') \n",
    "text=f.read()\n",
    "print(text)\n",
    "f.close()"
   ]
  },
  {
   "cell_type": "code",
   "execution_count": null,
   "metadata": {},
   "outputs": [],
   "source": [
    "f=open('')\n",
    "try:\n",
    "    do something\n",
    "except:\n",
    "    pass\n",
    "finally:\n",
    "    if f:\n",
    "        f.close()"
   ]
  },
  {
   "cell_type": "code",
   "execution_count": 12,
   "metadata": {},
   "outputs": [
    {
     "name": "stdout",
     "output_type": "stream",
     "text": [
      "text\n"
     ]
    }
   ],
   "source": [
    "#如果with里面的代码出现异常，就会自动捕捉异常并把文件关闭\n",
    "with open('/Users/admin/test/text.txt','r') as f:\n",
    "    line=f.readline()\n",
    "    while line:\n",
    "        print(line.strip())\n",
    "        line=f.readline()"
   ]
  },
  {
   "cell_type": "code",
   "execution_count": 14,
   "metadata": {},
   "outputs": [
    {
     "name": "stdout",
     "output_type": "stream",
     "text": [
      "text\n",
      "Dnjxk\n",
      "Sdnjl\n",
      "Dshl\n",
      "Ndskj\n",
      "Ndskndkjs\n",
      "ncccccccccccccds\n",
      "测试\n",
      "学习\n"
     ]
    }
   ],
   "source": [
    "with open('/Users/admin/test/text.txt','r') as f:\n",
    "    for line in f.readlines():\n",
    "        print(line.strip())   #strip()：去掉最后一个换行符"
   ]
  },
  {
   "cell_type": "markdown",
   "metadata": {},
   "source": [
    "##### 实现一个readlines生成器\n",
    "Python中除了''、\"\"、0、()、[]、{}、None为False之外，其他的都是True。"
   ]
  },
  {
   "cell_type": "code",
   "execution_count": 15,
   "metadata": {},
   "outputs": [
    {
     "name": "stdout",
     "output_type": "stream",
     "text": [
      "text\n",
      "Dnjxk\n",
      "Sdnjl\n",
      "Dshl\n",
      "Ndskj\n",
      "Ndskndkjs\n",
      "ncccccccccccccds\n",
      "测试\n",
      "学习\n"
     ]
    }
   ],
   "source": [
    "def readlines(f):\n",
    "    line=f.readline()\n",
    "    while line:\n",
    "        yield line\n",
    "        line=f.readline()\n",
    "        \n",
    "with open('/Users/admin/test/text.txt','r') as f:\n",
    "    for line in readlines(f):\n",
    "        print(line.strip())   #strip()：去掉最后一个换行符"
   ]
  },
  {
   "cell_type": "code",
   "execution_count": 18,
   "metadata": {},
   "outputs": [],
   "source": [
    "texts=['New line #1 hello world', 'Line #2 life is not easy']\n",
    "with open('/Users/admin/test/text.txt','w+') as f:\n",
    "    for text in texts:\n",
    "        f.write(text+'\\n')\n",
    "        \n",
    "# a+ 追加内容，文件不存在就创建\n",
    "with open('/Users/admin/test/new_text.txt','a+') as f:\n",
    "    f.write('something new\\n')"
   ]
  },
  {
   "cell_type": "markdown",
   "metadata": {},
   "source": [
    "#### json\n",
    "- load：（文件操作，传递文件句柄）把字符串或文件变成json对象\n",
    "- dump：（文件操作，传递文件句柄）把json对象变成字符串或文件\n",
    "- loads：（字符串操作，传递字符串）把json字符串变成字典对象\n",
    "- dumps：（字符串操作，传递字符串）把字典对象变成json字符串"
   ]
  },
  {
   "cell_type": "code",
   "execution_count": 25,
   "metadata": {},
   "outputs": [
    {
     "name": "stdout",
     "output_type": "stream",
     "text": [
      "<class 'dict'>\n",
      "{'ip': '192.168.1.1', 'port': ['9100', '9101', '9102']}\n",
      "<class 'dict'>\n",
      "config {'ip': '192.168.1.1', 'port': ['9100', '9101', '9102']}\n",
      "<class 'str'>\n",
      "{\"ip\": \"192.168.1.1\", \"port\": [\"9100\", \"9101\", \"9102\"]}\n"
     ]
    }
   ],
   "source": [
    "import json\n",
    "config = {'ip': '192.168.1.1', 'port': ['9100', '9101', '9102']}\n",
    "with open('/Users/admin/test/new_json.txt','w+') as f:\n",
    "    json.dump(config,f) #dump把字典写入json文件\n",
    "    \n",
    "with open('/Users/admin/test/new_json.txt','r') as f:\n",
    "    new_config=json.load(f)\n",
    "    \n",
    "print(type(new_config))\n",
    "print(new_config)\n",
    "\n",
    "#json.loads 解析的是字符串 \"\"\n",
    "#把字符串的json解析成字典对象\n",
    "config_str='{\"ip\": \"192.168.1.1\", \"port\": [\"9100\", \"9101\", \"9102\"]}'\n",
    "config=json.loads(config_str)\n",
    "print(type(config))\n",
    "print('config',config)\n",
    "#json.dumps 把json对象变回json字符串\n",
    "new_config=json.dumps(config)\n",
    "print(type(new_config))\n",
    "print(new_config)"
   ]
  },
  {
   "cell_type": "markdown",
   "metadata": {},
   "source": [
    "#### 模拟dumps的实现"
   ]
  },
  {
   "cell_type": "code",
   "execution_count": 45,
   "metadata": {},
   "outputs": [
    {
     "name": "stdout",
     "output_type": "stream",
     "text": [
      "{\n",
      "\"ip\":\"192.168.1.1\",\n",
      "\"port\":[\"9100\",\"9101\",\"9102\"]\n",
      "}\n"
     ]
    }
   ],
   "source": [
    "def json_dumps(d1):\n",
    "    s='{\\n'\n",
    "    lines=[]\n",
    "    for k,v in d1.items():\n",
    "        _s='\"'+k+'\":'\n",
    "        if type(v)!=list:\n",
    "            _s+='\"'+str(v)+'\"'\n",
    "        else:\n",
    "            items=['\"'+i+'\"' for i in v]\n",
    "            _s+='['+','.join(items)+']'\n",
    "        lines.append(_s)\n",
    "    s+=',\\n'.join(lines)\n",
    "    s+='\\n}'\n",
    "    return s\n",
    "    \n",
    "config_str={'ip': '192.168.1.1', 'port': ['9100', '9101', '9102']}\n",
    "print(json_dumps(config_str))"
   ]
  },
  {
   "cell_type": "markdown",
   "metadata": {},
   "source": [
    "#### 实现cvs文件读取"
   ]
  },
  {
   "cell_type": "code",
   "execution_count": 35,
   "metadata": {},
   "outputs": [
    {
     "name": "stdout",
     "output_type": "stream",
     "text": [
      "[{'Age': 'youth', 'Income': 'high', 'Student': 'no', 'CreditRating': 'fair'}, {'Age': 'youth', 'Income': 'high', 'Student': 'no', 'CreditRating': 'excellent'}, {'Age': 'middle', 'Income': 'high', 'Student': 'no', 'CreditRating': 'fair'}, {'Age': 'senior', 'Income': 'medium', 'Student': 'no', 'CreditRating': 'fair'}, {'Age': 'senior', 'Income': 'low', 'Student': 'yes', 'CreditRating': 'fair'}, {'Age': 'senior', 'Income': 'low', 'Student': 'yes', 'CreditRating': 'excellent'}, {'Age': 'middle', 'Income': 'low', 'Student': 'yes', 'CreditRating': 'excellent'}, {'Age': 'youth', 'Income': 'medium', 'Student': 'no', 'CreditRating': 'fair'}, {'Age': 'youth', 'Income': 'low', 'Student': 'yes', 'CreditRating': 'fair'}, {'Age': 'senior', 'Income': 'medium', 'Student': 'yes', 'CreditRating': 'fair'}, {'Age': 'youth', 'Income': 'medium', 'Student': 'yes', 'CreditRating': 'excellent'}, {'Age': 'middle', 'Income': 'medium', 'Student': 'no', 'CreditRating': 'excellent'}, {'Age': 'middle', 'Income': 'high', 'Student': 'yes', 'CreditRating': 'fair'}, {'Age': 'senior', 'Income': 'medium', 'Student': 'no', 'CreditRating': 'excellent'}]\n",
      "['no', 'no', 'yes', 'yes', 'yes', 'no', 'yes', 'no', 'yes', 'yes', 'yes', 'yes', 'yes', 'no']\n"
     ]
    }
   ],
   "source": [
    "def read_csv(f):\n",
    "    line=f.readline()\n",
    "    while line:\n",
    "        line=line.strip()\n",
    "        yield line.split(',')\n",
    "        line=f.readline()\n",
    "        \n",
    "feature_list=[]\n",
    "label_list=[]\n",
    "headers=None\n",
    "with open('/Users/admin/test/sales.csv','r') as f:\n",
    "    for row in read_csv(f):\n",
    "        if not headers: #如果不是headers，说明已经不是第一行\n",
    "            headers=row\n",
    "        else:\n",
    "            label_list.append(row[-1])\n",
    "            row_dict={}\n",
    "            for i in range(1,len(row)-1):\n",
    "                row_dict[headers[i]]=row[i]\n",
    "            feature_list.append(row_dict)\n",
    "            \n",
    "print(feature_list)\n",
    "print(label_list)"
   ]
  },
  {
   "cell_type": "markdown",
   "metadata": {},
   "source": [
    "#### 序列化和反序列化"
   ]
  },
  {
   "cell_type": "code",
   "execution_count": 46,
   "metadata": {},
   "outputs": [
    {
     "name": "stdout",
     "output_type": "stream",
     "text": [
      "b'\\x80\\x03c__main__\\nMyObject\\nq\\x00)\\x81q\\x01}q\\x02(X\\x01\\x00\\x00\\x00xq\\x03KdX\\x01\\x00\\x00\\x00yq\\x04K\\xc8ub.'\n",
      "100 200\n"
     ]
    }
   ],
   "source": [
    "import pickle\n",
    "\n",
    "class MyObject:\n",
    "    def __init__(self, x, y):\n",
    "        self.x = x\n",
    "        self.y = y\n",
    "\n",
    "obj = MyObject(100, 200)\n",
    "s_obj = pickle.dumps(obj)\n",
    "print(s_obj)\n",
    "obj = pickle.loads(s_obj)\n",
    "print(obj.x, obj.y)"
   ]
  },
  {
   "cell_type": "markdown",
   "metadata": {},
   "source": [
    "#### 多进程与多线程\n",
    "**进程** \n",
    "- 进程（Process）是计算机中的程序关于某数据集合上的一次运行活动，\n",
    "- 是系统进行资源分配和调度的基本单位，是操作系统结构的基础。\n",
    "**线程：** \n",
    "- 线程，有时被称为轻量级进程(Lightweight Process，LWP），是程序执行流的最小单元。\n",
    "一个标准的线程由线程ID，当前指令指针(PC），寄存器集合和堆栈组成。\n",
    "另外，线程是进程中的一个实体，是被系统独立调度和分派的基本单位，线程自己不拥有系统资源，只拥有一点儿在运行中必不可少的资源，\n",
    "但它可与同属一个进程的其它线程共享进程所拥有的全部资源。一个线程可以创建和撤消另一个线程，同一进程中的多个线程之间可以并发执行。"
   ]
  },
  {
   "cell_type": "code",
   "execution_count": 47,
   "metadata": {},
   "outputs": [
    {
     "name": "stdout",
     "output_type": "stream",
     "text": [
      "Parent process 7232.\n",
      "Child process will start.\n",
      "Run child process test (8019)...\n",
      "Child process end.\n"
     ]
    }
   ],
   "source": [
    "# 多进程\n",
    "from multiprocessing import Process\n",
    "import os\n",
    "\n",
    "# 子进程要执行的代码\n",
    "def run_proc(name):\n",
    "    print('Run child process %s (%s)...' % (name, os.getpid())) # 复制到文件然后在cmd窗口下执行\n",
    "\n",
    "if __name__=='__main__':\n",
    "    print('Parent process %s.' % os.getpid())\n",
    "    p = Process(target=run_proc, args=('test',))\n",
    "    print('Child process will start.')\n",
    "    p.start()\n",
    "    p.join()\n",
    "    print('Child process end.')"
   ]
  },
  {
   "cell_type": "code",
   "execution_count": 48,
   "metadata": {},
   "outputs": [
    {
     "name": "stdout",
     "output_type": "stream",
     "text": [
      "thread MainThread is running...\n",
      "thread LoopThread is running...\n",
      "thread LoopThread >>> 1\n",
      "thread LoopThread >>> 2\n",
      "thread LoopThread >>> 3\n",
      "thread LoopThread >>> 4\n",
      "thread LoopThread >>> 5\n",
      "thread LoopThread ended.\n",
      "thread MainThread ended.\n"
     ]
    }
   ],
   "source": [
    "# 多线程\n",
    "import time, threading\n",
    "\n",
    "# 新线程执行的代码:\n",
    "def loop():\n",
    "    print('thread %s is running...' % threading.current_thread().name)\n",
    "    n = 0\n",
    "    while n < 5:\n",
    "        n = n + 1\n",
    "        print('thread %s >>> %s' % (threading.current_thread().name, n))\n",
    "        time.sleep(1)\n",
    "    print('thread %s ended.' % threading.current_thread().name)\n",
    "\n",
    "print('thread %s is running...' % threading.current_thread().name)\n",
    "t = threading.Thread(target=loop, name='LoopThread')\n",
    "t.start()\n",
    "t.join()\n",
    "print('thread %s ended.' % threading.current_thread().name)"
   ]
  },
  {
   "cell_type": "code",
   "execution_count": 49,
   "metadata": {},
   "outputs": [
    {
     "name": "stdout",
     "output_type": "stream",
     "text": [
      "Parent process 7232.\n",
      "Run task 3 (8037)...\n",
      "Run task 1 (8035)...\n",
      "Run task 2 (8036)...\n",
      "Run task 0 (8034)...\n",
      "Waiting for all subprocesses done...\n",
      "Task 2 runs 0.43 seconds.\n",
      "Run task 4 (8036)...\n",
      "Task 0 runs 1.30 seconds.\n",
      "Task 1 runs 1.58 seconds.\n",
      "Task 4 runs 1.93 seconds.\n",
      "Task 3 runs 2.83 seconds.\n",
      "All subprocesses done.\n"
     ]
    }
   ],
   "source": [
    "# 进程池\n",
    "from multiprocessing import Pool\n",
    "import os, time, random\n",
    "\n",
    "def long_time_task(name):\n",
    "    print('Run task %s (%s)...' % (name, os.getpid()))\n",
    "    start = time.time()\n",
    "    time.sleep(random.random() * 3)\n",
    "    end = time.time()\n",
    "    print('Task %s runs %0.2f seconds.' % (name, (end - start)))\n",
    "\n",
    "if __name__=='__main__':\n",
    "    print('Parent process %s.' % os.getpid())\n",
    "    p = Pool(4)\n",
    "    for i in range(5):\n",
    "        p.apply_async(long_time_task, args=(i,))\n",
    "    print('Waiting for all subprocesses done...')\n",
    "    p.close()\n",
    "    p.join()\n",
    "    print('All subprocesses done.')"
   ]
  },
  {
   "cell_type": "code",
   "execution_count": null,
   "metadata": {},
   "outputs": [],
   "source": [
    "# 线程池\n",
    "import threadpool\n",
    "import time\n",
    "\n",
    "def long_op(x):\n",
    "    print('%d\\\\n' % n)\n",
    "    time.sleep(2)\n",
    "\n",
    "pool = threadpool.ThreadPool(os.cpu_count())\n",
    "tasks = threadpool.makeRequests(long_op, [1, 2, 3, 4, 5, 6, 7, 8, 9, 10]) # 可以尝试函数使用多个参数，必须看源代码\n",
    "print(len(tasks))\n",
    "[pool.putRequest(task) for task in tasks]\n",
    "pool.wait()"
   ]
  },
  {
   "cell_type": "code",
   "execution_count": null,
   "metadata": {},
   "outputs": [],
   "source": [
    "### 多线程的应用\n",
    "求每个列表中最大的三个数"
   ]
  },
  {
   "cell_type": "code",
   "execution_count": 52,
   "metadata": {},
   "outputs": [
    {
     "name": "stdout",
     "output_type": "stream",
     "text": [
      "[45, 56, 64]\n"
     ]
    }
   ],
   "source": [
    "def top3(data):\n",
    "    data.sort()\n",
    "    temp_result[threading.current_thread().name]=data[-3:]\n",
    "\n",
    "data_set = [[1, 7, 8, 9, 20, 11, 14, 15],\n",
    "            [19, 21, 23, 24, 45, 12, 45, 56, 31],\n",
    "            [18, 28, 64, 22, 17, 28]]\n",
    "temp_result={}\n",
    "threads=[]\n",
    "for i in range(len(data_set)):\n",
    "    t=threading.Thread(target=top3,name=str(i),args=(data_set[i],))\n",
    "    threads.append(t)\n",
    "\n",
    "for t in threads:\n",
    "    t.start()\n",
    "    \n",
    "for t in threads:\n",
    "    t.join()\n",
    "\n",
    "result=[]\n",
    "for k,v in temp_result.items():\n",
    "    result.extend(v)\n",
    "\n",
    "result.sort()\n",
    "print(result[-3:])"
   ]
  },
  {
   "cell_type": "code",
   "execution_count": 53,
   "metadata": {},
   "outputs": [
    {
     "name": "stdout",
     "output_type": "stream",
     "text": [
      "Write: 8131\n",
      "Write AAA\n",
      "Read: 8132\n",
      "Read AAA\n",
      "Write BBB\n",
      "Read BBB\n",
      "Write Hello World\n",
      "Read Hello World\n",
      "Done\n"
     ]
    }
   ],
   "source": [
    "# 多进程变量共享\n",
    "from multiprocessing import Process, Queue\n",
    "import os, time, random\n",
    "\n",
    "def write(q):\n",
    "    print('Write: %s' % os.getpid())\n",
    "    for value in ['AAA', 'BBB', 'Hello World']:\n",
    "        print('Write %s' % value)\n",
    "        q.put(value)\n",
    "        time.sleep(random.random())\n",
    "        \n",
    "def read(q):\n",
    "    print('Read: %s' % os.getpid())\n",
    "    while True:\n",
    "        value = q.get(True)\n",
    "        print('Read %s' % value)\n",
    "        \n",
    "if __name__ == '__main__':\n",
    "    q = Queue()\n",
    "    pw = Process(target=write, args=(q,))\n",
    "    pr = Process(target=read, args=(q,))\n",
    "    pw.start()\n",
    "    pr.start()\n",
    "    pw.join()\n",
    "    time.sleep(3)\n",
    "    pr.terminate()\n",
    "    print('Done')"
   ]
  },
  {
   "cell_type": "code",
   "execution_count": 54,
   "metadata": {},
   "outputs": [
    {
     "name": "stdout",
     "output_type": "stream",
     "text": [
      "55\n"
     ]
    }
   ],
   "source": [
    "# 锁\n",
    "import threading\n",
    "\n",
    "lock = threading.Lock()\n",
    "\n",
    "balance = 0\n",
    "def change_balance(n):\n",
    "    global balance\n",
    "    balance += n \n",
    "    # balance = 100，但是两个进程，1个加10，一个加20，同时操作，最后balance可能变成110，也可能变成120，\n",
    "    # 但不是我们要的130。\n",
    "    \n",
    "def run_thread(n):\n",
    "    lock.acquire()\n",
    "    try:\n",
    "        change_balance(n)\n",
    "    except:\n",
    "        pass\n",
    "    finally:\n",
    "        lock.release()\n",
    "    \n",
    "threads = []\n",
    "for i in range(11):\n",
    "    t = threading.Thread(target=run_thread, args=(i, ))\n",
    "    threads.append(t)\n",
    "for t in threads:\n",
    "    t.start()\n",
    "for t in threads:\n",
    "    t.join()\n",
    "print(balance)"
   ]
  },
  {
   "cell_type": "code",
   "execution_count": 56,
   "metadata": {},
   "outputs": [
    {
     "name": "stdout",
     "output_type": "stream",
     "text": [
      "['/Users/admin/anaconda3/lib/python3.6/site-packages/ipykernel_launcher.py', '-f', '/Users/admin/Library/Jupyter/runtime/kernel-2d7863d3-e036-4b2f-9be8-966a8c17391f.json']\n"
     ]
    }
   ],
   "source": [
    "# sys应用\n",
    "import sys\n",
    "print(sys.argv)\n",
    "print(sys.path)\n",
    "# sys.path.append(...)"
   ]
  },
  {
   "cell_type": "code",
   "execution_count": null,
   "metadata": {},
   "outputs": [],
   "source": [
    "# os应用\n",
    "# 关键部分：os.listdir, os.path.abspath/isdir/join\n",
    "import os  \n",
    "\n",
    "def dir_s(path, tabs=0):\n",
    "    path = os.path.abspath(path)\n",
    "    files= os.listdir(path) #得到文件夹下的所有文件名称 \n",
    "    my_dirs = []\n",
    "    for f in files:\n",
    "        #拼接绝对路径\n",
    "        abs_path = os.path.join(path, f)\n",
    "        if os.path.isdir(abs_path): \n",
    "            my_dirs.append(f)\n",
    "        else: #不是目录，直接打印\n",
    "            print('\\t' * tabs + f)\n",
    "    for my_dir in my_dirs:\n",
    "        print('\\t' * tabs + my_dir)\n",
    "        #解决 \\\\ 可能不解析的问题\n",
    "        dir_s(os.path.join(path, my_dir), tabs + 1)\n",
    "\n",
    "dir_s('.') # 尝试walk函数更简单的实现"
   ]
  },
  {
   "cell_type": "code",
   "execution_count": null,
   "metadata": {},
   "outputs": [],
   "source": [
    "### 练习\n",
    "使用线程池实现对50个文本进行单词出现频率统计并汇总结果（可以自己写一个随机文件生成器）"
   ]
  },
  {
   "cell_type": "code",
   "execution_count": null,
   "metadata": {},
   "outputs": [],
   "source": [
    "读取文本文件，将全部内容倒序后写入新文件"
   ]
  }
 ],
 "metadata": {
  "kernelspec": {
   "display_name": "Python 3",
   "language": "python",
   "name": "python3"
  },
  "language_info": {
   "codemirror_mode": {
    "name": "ipython",
    "version": 3
   },
   "file_extension": ".py",
   "mimetype": "text/x-python",
   "name": "python",
   "nbconvert_exporter": "python",
   "pygments_lexer": "ipython3",
   "version": "3.6.5"
  }
 },
 "nbformat": 4,
 "nbformat_minor": 2
}

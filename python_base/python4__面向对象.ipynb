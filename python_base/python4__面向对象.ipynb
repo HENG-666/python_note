{
 "cells": [
  {
   "cell_type": "markdown",
   "metadata": {},
   "source": [
    "## （四）面向对象"
   ]
  },
  {
   "cell_type": "markdown",
   "metadata": {},
   "source": [
    "### 一切皆对象\n",
    "关于类与对象的BIFs\n",
    "type() 返回对象类型\n",
    "id()，memoryview(),查看对象id和内存地址\n",
    "dir()，查看对象下变量及函数\n",
    "issubclass(),isinstance()子类,实例操作\n",
    "hasattr(),getattr(),setattr(),delattr()对象属性操作\n",
    "globals(),locals()，全局与局部的名称空间\n",
    "import(),reload()，模块的导入与重载\n",
    "\n",
    "- 面向过程：根据业务逻辑从上到下写垒代码\n",
    "- 函数式：将某功能代码封装到函数中，日后便无需重复编写，仅调用函数即可\n",
    "- 面向对象：对函数进行分类和封装，让开发“更快更好更强…”\n",
    "<li>\n",
    "- 面向过程编程容易理解，其往往用一长段代码来实现指定功能。\n",
    "- 函数是对面向过程的一次封装\n",
    "- 面向对象是更高一层的封装\n",
    "    \n",
    "#### 类与对象的关系\n",
    "- 类：从近似的对象中抽象出类\n",
    "- 对象：然后再从类出实例化出对象\n",
    "\n",
    "#### 类class\n",
    "类是对一类事物的抽象。比如汽车，门，猫。\n",
    "\n",
    "Python中, 类(class)的变量是所有对象共享使用, 只有一个拷贝, 所有对象修改, 都可以被其他对象所见;\n",
    "对象(object)的变量由类的每个对象所拥有,每个对象都包含自己的一份拷贝, 不会影响其他对象;\n",
    "\n",
    "之前学习的都是Python自带的数据类型，class则是我们自己定义的类型。\n",
    "\n",
    "#### 对象object\n",
    "某类事物中的一个具体的实例，对应类。如果我家的那辆汽车，张伟办公室的大门，隔壁丽丽家的那只小花猫。\n",
    "#### 类与对象的关系\n",
    "类就像是对象的模板，可以批量生产出许多的对象。\n",
    "好比a这个变量其实是整形数字int类的一个实例\n",
    "那int这个类还可以’复刻’出许许多多的整形对象。\n",
    "这些对象共有的特征就是：整数性。\n",
    "\n",
    "### 1. 类的创建与对象的初始化\n",
    "\n",
    "**完成一个学生类的设计**\n",
    "要求能查看总学生人数，全部学生姓名，毕业分数标准1000，已经毕业学员数量。\n",
    "实现考试方法，成绩分数如果大于60分代表其通过考试，分数计入该学员总分。\n",
    "如果该学员累计分数达到1000分，该学员即毕业\n",
    "实现查分方法，向该学员返回是否已经毕业，或者还差多少分数才能毕业\n",
    "实现查询所有已毕业学生数量的功能\n",
    "实现查询所有学生数量的功能\n",
    "实现查询所有学生姓名的功能"
   ]
  },
  {
   "cell_type": "code",
   "execution_count": 3,
   "metadata": {},
   "outputs": [
    {
     "name": "stdout",
     "output_type": "stream",
     "text": [
      "1\n",
      "david,You have graduated from julyedu.com\n",
      "1\n",
      "xiaoming,You have 840 scores to archive!\n"
     ]
    }
   ],
   "source": [
    "class Student:\n",
    "    student_total=0 #总学生数\n",
    "    pass_score=1000 #毕业总分\n",
    "    student_graduated=0 #毕业人数\n",
    "    student_list=[]\n",
    "    \n",
    "    def __init__(self,name,age,gender):\n",
    "        self.__name=name\n",
    "        self.__age=age\n",
    "        self.__gender=gender\n",
    "        self.__score=0\n",
    "        \n",
    "        Student.student_total+=1\n",
    "        Student.student_list.append(self.__name)\n",
    "        \n",
    "    def exam(self,score):\n",
    "        if score<60:\n",
    "            print(self.__name+',sorry, you are faild this time, better luck next time')\n",
    "        else:\n",
    "            self.__score+=score\n",
    "            str1=self.__name+',Good!Your score is '+str(self.__score)+' now'\n",
    "            \n",
    "            if self.__score>=Student.pass_score:\n",
    "                Student.student_graduated+=1\n",
    "            return str1\n",
    "        \n",
    "    def check(self):\n",
    "        if self.__score<Student.pass_score:\n",
    "            return self.__name+',You have '+str(Student.pass_score-self.__score)+' scores to archive!'\n",
    "        else:\n",
    "            return self.__name+',You have graduated from julyedu.com'\n",
    "             \n",
    "    @classmethod\n",
    "    def get_student_graduated(cls):\n",
    "        return Student.student_graduated\n",
    "    \n",
    "    @staticmethod\n",
    "    def static1():\n",
    "        return 'this is a static method from Student,it can be called by both the instance and class'\n",
    "    \n",
    " \n",
    "david=Student('david',22,'female')\n",
    "david.exam(60)    \n",
    "david.exam(100)\n",
    "david.exam(900)\n",
    "print(david.get_student_graduated())\n",
    "print(david.check())\n",
    "\n",
    "xiaoming=Student('xiaoming',22,'female')\n",
    "xiaoming.exam(60)    \n",
    "xiaoming.exam(100)\n",
    "print(david.get_student_graduated())\n",
    "print(xiaoming.check())   "
   ]
  },
  {
   "cell_type": "markdown",
   "metadata": {},
   "source": [
    "### 2. 类的内部结构\n",
    "##### 数据成员\n",
    "- 类变量：在类中且在函数体外，实例之间共享\n",
    "- 实例变量：定义在方法中，作用于当前实例的类\n",
    "##### 方法成员\n",
    "- 类方法：定义时需要使用@classmethod装饰器，第一个参数为cls\n",
    "- 实例方法：绑定到实例的方法，第一个参数为self\n",
    "- 静态方法[普通方法]：\n",
    "    定义的时候使用@staticmethod装饰器\n",
    "    静态方法没有参数限制，不需要实例参数self和类参数cls\n",
    "    静态方法可以通过类名访问，也可以通过实例方法访问\n",
    "**cls**\n",
    "cls是指向类的指针，在类方法中第一个形参要命名为cls.\n",
    "\n",
    "**self**\n",
    "self是指向每个独立对象的指针.在实例方法中第一个形参被命名为self,以区别其它函数。\n",
    "\n",
    "### 3. 类的继承和多态"
   ]
  },
  {
   "cell_type": "code",
   "execution_count": 47,
   "metadata": {},
   "outputs": [
    {
     "name": "stdout",
     "output_type": "stream",
     "text": [
      "A great work that can save people!\n",
      "people can speak language! FireMan needs to speak loudly!\n",
      "To gain profits for the company is our job!\n"
     ]
    }
   ],
   "source": [
    "class person():\n",
    "    def speak(self,):\n",
    "        return 'people can speak language!'\n",
    "    def work(self,):\n",
    "        print('people should have work to do!')\n",
    "\n",
    "class fireMan(person):\n",
    "    def work(self,):\n",
    "        print('A great work that can save people!')\n",
    "    def speak2(self,):\n",
    "        print(super().speak(),'FireMan needs to speak loudly!')\n",
    "\n",
    "class employee(person):\n",
    "    def work(self,):\n",
    "        print('To gain profits for the company is our job!')\n",
    "        \n",
    "fireman1=fireMan()\n",
    "fireman1.work()#多态\n",
    "fireman1.speak2()#super方法调用父类\n",
    "\n",
    "employee1=employee()\n",
    "employee1.work()"
   ]
  },
  {
   "cell_type": "code",
   "execution_count": null,
   "metadata": {},
   "outputs": [],
   "source": [
    "# 多态的概念是应用于Java和C#这一类强类型语言中，\n",
    "# Python是弱类型语言，Python崇尚“鸭子类型”\n",
    "# 在Python世界中,一切都是对象\n",
    "\n",
    "class A:\n",
    "    def bar(self):\n",
    "        print ('A.bar')\n",
    "class B(A):#继承自A\n",
    "    def car(self):\n",
    "        print ('B.car')\n",
    "\n",
    "#和A,B类型不相关的类C\n",
    "class C():\n",
    "    def sar(self):\n",
    "        print ('C.sar')\n",
    "    def car(self):\n",
    "        print('C.car')\n",
    "\n",
    "def fun1(obj):#接收一个参数obj\n",
    "    obj.car()#调用该参数下的car()方法。而不关心obj到底是什么类型~\n",
    "\n",
    "b1=B()\n",
    "c1=C()\n",
    "\n",
    "fun1(b1)#一切皆对象，不care是什么class\n",
    "fun1(c1) #一切皆对象，不care是什么class"
   ]
  },
  {
   "cell_type": "markdown",
   "metadata": {},
   "source": [
    "### 4. OOP三大特性总结\n",
    "##### 封装\n",
    "封装就是将抽象的数据（变量）和行为（函数）打包，形成一个逻辑上的整体（即类）；\n",
    "封装可以增强安全性（数据）并简化编程（函数），用户只能通过类对外接口的访问权限来使用类的成员。\n",
    "\n",
    "##### 继承\n",
    "一个类可以以 class newclsname():来开始全新构造（实际上会默认继承自object）；\n",
    "也可以从某个已经存在的类继承。继承的类叫做subclass。\n",
    "比如要构造蜘蛛这个类，可以从昆虫这个类继承。构建学生,雇员,战士都可以从人这个类继承。\n",
    "\n",
    "##### 多态\n",
    "因为类具有继承关系，子类可以向上转型被看做是父类的类型，比如无论是战士还是快递员，都是人类。\n",
    "也因为有了继承关系，子类可以继承父类的所有方法和属性，\n",
    "当然也可以重载父类的成员函数及属性。例如，当子类（直升机）和父类（飞机）都存在相同的fly()方法时，\n",
    "子类的fly()覆盖了父类的fly()，在运行时就总是会调用子类的fly()。这就是继承带来的多态。"
   ]
  },
  {
   "cell_type": "markdown",
   "metadata": {},
   "source": [
    "### 5.访问控制\n",
    "Python没有像其它语言有访问控制关键字，例如private，protected等，python通过命名约定来实现访问控制。\n",
    "- 对模块级的控制，通过在标识符前加单下划线_实现\n",
    "- 对类内部的属性和方法，通过在标识符钱加双下划线__来实现\n",
    "    类中的两个双下划线包裹的属性或方法为特殊方法\n",
    "    \n",
    "### 6.魔术方法\n",
    "##### 构造和初始化魔术\n",
    "每个人都知道一个最基本的魔术方法， __init__ 。\n",
    "通过此方法我们可以定义一个对象的初始操作。\n",
    "然而，当我调用 x = SomeClass() 的时候， __init__ 并不是第一个被调用的方法。\n",
    "实际上，还有一个叫做 __new__ 的方法，来构造这个实例。\n",
    "然后给在开始创建时候的初始化函数来传递参数。\n",
    "在对象生命周期的结束时，也有一个 __del__ 方法。"
   ]
  },
  {
   "cell_type": "code",
   "execution_count": 49,
   "metadata": {},
   "outputs": [
    {
     "name": "stdout",
     "output_type": "stream",
     "text": [
      "被__init__\n",
      "我被__del__了，再见\n"
     ]
    }
   ],
   "source": [
    "class myclass():\n",
    "    def __init__(self):\n",
    "        print('被__init__')\n",
    "\n",
    "    def __del__(self):\n",
    "        print('我被__del__了，再见')        \n",
    "\n",
    "c1=myclass()\n",
    "del c1"
   ]
  },
  {
   "cell_type": "markdown",
   "metadata": {},
   "source": [
    "#### 比较魔法\n",
    "python对实现对象的比较，使用魔法进行大的逆转，使他们非常直观而不是笨拙的方法调用。而且还提供了一种方法可以重写python对对象比较的默认行为（通过引用），一下是这些方法和他们的作用。\n",
    "**__ cmp __ (self),other**\n",
    "__ cmp __ 是最基本的用于比较的魔法方法。\n",
    "它实际上实现了所有的比较符号(<,==,!=,etc)\n",
    "但是它的表现并不会总是如你所愿（比如，当一个实例相等是通过一个规则来判断，而一个实例大于另一个实例是通过另外一个规则来判断）。\n",
    "- self<other return 负数\n",
    "- self==other return 0\n",
    "- self>other return正数\n",
    "通常最好的一种方式是去分别定义每一个比较符号而不是一次性将他们定义。\n",
    "但是 __ cmp __ 方法是你想要实现所有的比较符号而一个保持清楚明白的一个好方法。\n",
    "- __ eq __ (self, other) == \n",
    "- __ ne __ (self, other) != \n",
    "- __ lt __ (self, other) < \n",
    "- __ gt __ (self, other) >= "
   ]
  },
  {
   "cell_type": "code",
   "execution_count": 55,
   "metadata": {},
   "outputs": [
    {
     "name": "stdout",
     "output_type": "stream",
     "text": [
      "被__init__\n",
      "被__del__\n",
      "True\n",
      "can't compare with other datatype except int\n",
      "None\n"
     ]
    }
   ],
   "source": [
    "class comp():\n",
    "    def __init__(self,num):\n",
    "        self.__num=num\n",
    "        print('被__init__')\n",
    "        \n",
    "    def __del__(self):\n",
    "        print('被__del__')   \n",
    "        \n",
    "    def __eq__(self,other):\n",
    "        if type(other)==int:\n",
    "            return True if self.__num>other else False\n",
    "        else:\n",
    "            print('can\\'t compare with other datatype except int',)\n",
    "            \n",
    "            \n",
    "c=comp(3)\n",
    "print(c.__eq__(1))\n",
    "print(c=='china')"
   ]
  },
  {
   "cell_type": "markdown",
   "metadata": {},
   "source": [
    "#### 数值处理魔法"
   ]
  },
  {
   "cell_type": "code",
   "execution_count": null,
   "metadata": {},
   "outputs": [],
   "source": [
    "__pos__(self) 实现正号的特性(比如 +some_object)\n",
    "__neg__(self) 实现负号的特性(比如 -some_object)\n",
    "__abs__(self) 实现内置 abs() 函数的特性。\n",
    "__invert__(self) 实现 ~ 符号的特性。\n",
    "__add__(self, other) 实现加法。\n",
    "__sub__(self, other) 实现减法。 \n",
    "__mul__(self, other) 实现乘法。\n",
    "__floordiv__(self, other) 实现 // 符号实现的整数除法。\n",
    "__div__(self, other) 实现 / 符号实现的除法。\n",
    "__truediv__(self, other) 实现真除法。\n",
    "__iadd__(self, other) 实现赋值加法+=\n",
    "\n",
    "__str__(self) 定义当 str() 调用的时候的返回值\n",
    "__repr__(self) 定义 repr() 被调用的时候的返回值。\n",
    "__hash__(self) 定义当 hash() 调用的时候的返回值，它返回一个整型"
   ]
  },
  {
   "cell_type": "code",
   "execution_count": 59,
   "metadata": {},
   "outputs": [
    {
     "name": "stdout",
     "output_type": "stream",
     "text": [
      "被__init__\n",
      "0\n"
     ]
    }
   ],
   "source": [
    "class comp():\n",
    "    def __init__(self,num):\n",
    "        self__num=num\n",
    "        print('被__init__')\n",
    "        \n",
    "    def __pos__(self):\n",
    "        self.__num=0\n",
    "        print(self.__num)\n",
    "        \n",
    "c=comp(-3)\n",
    "c.__pos__()"
   ]
  },
  {
   "cell_type": "markdown",
   "metadata": {},
   "source": [
    "#### 类表现魔法\n",
    "一个模块的__name__的值取决于你如何应用模块。如果import一个模块，那么模块__name__的值通常为模块文件名，不带路径或者文件的扩展名。\n",
    "但你也可以像一个标准的程序一样运行模块\n",
    "在这种情况下，__name__的值将是一个特别缺省 __ main __ 。上述类中加上 \n",
    "__ name __ == '__ main __' 的判断语句，可以直接在终端环境下执行 python dirfile.py /tmp 进行测试，不必非得在交互式环境下导入模块进行测试。"
   ]
  },
  {
   "cell_type": "code",
   "execution_count": null,
   "metadata": {},
   "outputs": [],
   "source": [
    "class myClss():\n",
    "    #表示类的描述信息，重写代表自定义描述\n",
    "    __doc__='this is myClass document'\n",
    "    #模块是对象，并且所有的模块都有一个内置属性 __name__\n",
    "    __name__='moduel name is V'\n",
    "    \n",
    "    def __init__(self):\n",
    "        pass\n",
    "    \n",
    "    def __str__():\n",
    "        return 'str'\n",
    "    \n",
    "    def __repr__():\n",
    "        return 'repr'\n",
    "    \n",
    "    def __hash__():\n",
    "        return 7"
   ]
  },
  {
   "cell_type": "markdown",
   "metadata": {},
   "source": [
    "#### 容器魔法\n",
    "_xx:protected\n",
    "__ xx:private\n",
    "__ xx __ :类自己调用，子类也不行"
   ]
  },
  {
   "cell_type": "code",
   "execution_count": 77,
   "metadata": {},
   "outputs": [
    {
     "name": "stdout",
     "output_type": "stream",
     "text": [
      "__len__\n",
      "1haha\n"
     ]
    },
    {
     "data": {
      "text/plain": [
       "[0,\n",
       " '1haha',\n",
       " '2haha',\n",
       " '3haha',\n",
       " '4haha',\n",
       " '5haha',\n",
       " '6haha',\n",
       " '7haha',\n",
       " '8haha',\n",
       " '9haha']"
      ]
     },
     "execution_count": 77,
     "metadata": {},
     "output_type": "execute_result"
    }
   ],
   "source": [
    "class functionalList():\n",
    "    \n",
    "    def __init__(self,values=None):\n",
    "        if values is None:\n",
    "            self.__values=[]\n",
    "        else:\n",
    "            self.__values=values\n",
    "    \n",
    "    def __getitem__(self,key):\n",
    "        if type(key)==slice:#如果传入的key是一个slice类，则这是一个切片方法\n",
    "            start=key.start\n",
    "            stop=key.stop+1\n",
    "            if key.stop==None:\n",
    "                stop=-1\n",
    "            if key.start==None:\n",
    "                start=0\n",
    "            return self.__values[start:stop]\n",
    "        else:\n",
    "            return str(self.__values[key]) #故意多输出2次\n",
    "        \n",
    "    def __setitem__(self,key,value):\n",
    "        self.__values[key]=str(value)+'haha' \n",
    "        \n",
    "    def delitem__(self,key):\n",
    "        pass\n",
    "        #del self.__values[key] #故意不删\n",
    "        \n",
    "    def iter__(self):\n",
    "        return iter(self.__values)\n",
    "    \n",
    "    def __reversed__(self):\n",
    "        return reversed(self.__values)\n",
    "            \n",
    "    def __append__(self,value):\n",
    "        self.__values.append(value)\n",
    "        \n",
    "    def __len__(self):\n",
    "        print('__len__')\n",
    "        return len(self.__values)\n",
    "    \n",
    "l1=list(range(10))\n",
    "o1=functionalList(l1)\n",
    "len(o1)\n",
    "\n",
    "o1.__setitem__(1,1)\n",
    "o1.__setitem__(2,2)\n",
    "o1.__setitem__(3,3)\n",
    "o1.__setitem__(4,4)\n",
    "o1.__setitem__(5,5)\n",
    "o1.__setitem__(6,6)\n",
    "o1.__setitem__(7,7)\n",
    "o1.__setitem__(8,8)\n",
    "o1.__setitem__(9,9)\n",
    "print(o1.__getitem__(1))\n",
    "\n",
    "o1[0:9]"
   ]
  },
  {
   "cell_type": "markdown",
   "metadata": {},
   "source": [
    "### 7. 反射\n",
    "你可以通过魔术方法控制控制使用 isinstance() 和 issubclass() 内置方法的反射行为。\n",
    "这些魔术方法是:\n",
    "- __ instancecheck __ (self, instance)：检查一个实例是不是你定义的类的实例\n",
    "- __ subclasscheck __ (self, subclass)：检查一个类是不是你定义的类的子类"
   ]
  },
  {
   "cell_type": "markdown",
   "metadata": {},
   "source": [
    "### 8. 调用\n",
    "可以调用的对象\n",
    "Python中，方法也是一种的对象。这意味着他们也可以被传递到方法中就像其他对象一样。\n",
    "__ call __ 可以让类的实例的行为表现的像函数一样被调用\n",
    "将一个函数当做一个参数传到另外一个函数中等等。这是一个非常强大的特性让Python编程更加舒适甜美。 \n",
    "\n",
    "魔法函数 __ call __ (self, [args...])\n",
    "__ call __ 允许一个类的实例像函数一样被调用。\n",
    "实质上说，这意味着 x() 与 x.__ call __ () 是相同的。\n",
    "注意 __ call __ 参数可变。这意味着你可以定义 __ call __ 为其他你想要的函数，无论有多少个参数。\n"
   ]
  },
  {
   "cell_type": "code",
   "execution_count": 81,
   "metadata": {},
   "outputs": [
    {
     "name": "stdout",
     "output_type": "stream",
     "text": [
      "1 5\n",
      "5 1\n"
     ]
    }
   ],
   "source": [
    "class callableInstance():\n",
    "    def __init__(self,x,y):\n",
    "        self.x,self.y=x,y\n",
    "        \n",
    "    def __call__(self):\n",
    "        self.x,self.y=self.y,self.x\n",
    "        \n",
    "c=callableInstance(1,5)\n",
    "print(c.x,c.y)\n",
    "c()\n",
    "print(c.x,c.y)"
   ]
  },
  {
   "cell_type": "markdown",
   "metadata": {},
   "source": [
    "### 9. 模块与包\n",
    "##### 模块定义\n",
    "一个.py文件\n",
    "包含了对象定义与语句\n",
    "##### 模块作用\n",
    "用来从逻辑上组织代码\n",
    "##### 模块使用\n",
    "- 搜索路径（标准模块，自定义与第三方模块）路径\n",
    "    搜索路径设置（修改sys.path.append()），设置环境变量\n",
    "- 导入方法\n",
    "    import test #作为模块空间导入\n",
    "    from ** import * #指定模块下具体的类，对象导入，并入当前空间\n",
    "    from *** import *** #将模块下所有对象导入，并入当前空间\n",
    "    \n",
    "#### 包 package\n",
    "##### 包定义\n",
    "- 含有 __ init __ .py文件间被称为包， __ init __ .py文件用于标识当前文件夹是一个包\n",
    "- 包用于组织模块，通常把相近的模块进行再次封装成为包\n",
    "#### 包的目录结构\n",
    "- 模块\n",
    "- 子包\n",
    "    子包下的子包\n",
    "##### 包的安装，导入与访问\n",
    "- 包的安装(pip,conda)\n",
    "- 不同的导入方式(假设包名为test)\n",
    "    import test #导入 __ init __ .py这个moduel\n",
    "    \n",
    "    from test import * #导入 __ init __ .py这个魔都了下所有对象导入到当前空间\n",
    "    \n",
    "    from test.test_level1.test_level2 import test_level2 #导入的层次目录下的模块"
   ]
  },
  {
   "cell_type": "markdown",
   "metadata": {},
   "source": [
    "### 10.练习"
   ]
  },
  {
   "cell_type": "markdown",
   "metadata": {},
   "source": [
    "##### 创建一个名为phone的类\n",
    "- 1）类实例成员变量有screeen_size、price、brand\n",
    "- 2）给成员变量创建访问及设置方法\n",
    "- 3）定义play方法，功能为打印：play game\n",
    "- 4）定义sendMessage方法，功能为打印：text message\n",
    "- 5）定义powerOff方法，功能为打印：power off\n",
    "- 6）创建get_info方法，打印对象的相关信息\n",
    "- 7）实例化类phone()，对象名为phone1, 屏幕尺寸为5.5,价格为6288,品牌为apple\n",
    "- 8）调用3，4，5，6方法，查看结果\n",
    "- 9）实例化类phone()，对象名为phone2, 屏幕尺寸为5,价格为1999,品牌为mi.\n",
    "- 10）调用3，4，5，6方法，查看结果"
   ]
  },
  {
   "cell_type": "code",
   "execution_count": 8,
   "metadata": {},
   "outputs": [
    {
     "name": "stdout",
     "output_type": "stream",
     "text": [
      "play name\n",
      "新消息来啦! 买新手机啦\n",
      "power off\n",
      "手机品牌： apple 屏幕尺寸 5.5 价格 6288\n",
      "play name\n",
      "新消息来啦! 买新手机啦\n",
      "power off\n",
      "手机品牌： mi 屏幕尺寸 5 价格 1999\n"
     ]
    }
   ],
   "source": [
    "class Phone:\n",
    "\n",
    "    def __init__(self,scree_size,price,brand):\n",
    "        self.__scree_size=scree_size\n",
    "        self.__price=price\n",
    "        self.__brand=brand\n",
    "        \n",
    "    def setPrice(self,price):\n",
    "        self.__price=price\n",
    "        \n",
    "    def getPrice(self):\n",
    "        return self.__price\n",
    "        \n",
    "    def getScreeSize(self):\n",
    "        return self.__scree_size\n",
    "    \n",
    "    def getBrand(self):\n",
    "        return self.__brand\n",
    "    \n",
    "    def play(self):\n",
    "        print('play name')\n",
    "        \n",
    "    def sendMessage(self,text):\n",
    "        print('新消息来啦!',text)\n",
    "        \n",
    "    def powerOff(self):\n",
    "        print('power off')\n",
    "        \n",
    "    def get_info(self):\n",
    "        print('手机品牌：',self.__brand,'屏幕尺寸',self.__scree_size,'价格',self.__price)\n",
    "        \n",
    "phone1=Phone(5.5,6288,'apple')\n",
    "phone1.play()\n",
    "phone1.sendMessage('买新手机啦')\n",
    "phone1.powerOff()\n",
    "phone1.get_info()\n",
    "\n",
    "phone2=Phone(5,1999,'mi')\n",
    "phone2.play()\n",
    "phone2.sendMessage('买新手机啦')\n",
    "phone2.powerOff()\n",
    "phone2.get_info()"
   ]
  },
  {
   "cell_type": "markdown",
   "metadata": {},
   "source": [
    "##### 设计一个公司类，完成以下要求，并实例化不同对象进行验证\n",
    "**类变量**\n",
    "- 类下公司总个数，类下实例的名称列表\n",
    "    \n",
    "**类方法**\n",
    "- 返回公司类共有多少个公司实例\n",
    "- 返回公司类的公司实例的名称列表\n",
    "    \n",
    "**实例变量**\n",
    "- 公司名，简介，利润，销售额，总成本，雇员姓名，雇员列表\n",
    "    \n",
    "**实例方法**\n",
    "- 招聘人才（每招一个人会有成本产生，影响该实例雇员列表，人数，总成本）\n",
    "- 解雇人员（每解雇一个人会有成本产生，影响该实例雇员列表，人数，总成本）\n",
    "- 公司广告推广（影响该实例总成本）\n",
    "- 交社保（按公司雇员总人数计算，影响该实例总成本）\n",
    "- 交税（按公司雇员总人数计算，影响该实例总成本）\n",
    "- 销售（按 销售件数*价格 计算销售额，利润按 销售额*利润率 计算利润）\n",
    "- 获取公司雇员列表\n",
    "- 获取公司净利润"
   ]
  },
  {
   "cell_type": "code",
   "execution_count": 16,
   "metadata": {},
   "outputs": [
    {
     "name": "stdout",
     "output_type": "stream",
     "text": [
      "总人数 1\n",
      "总成本 27000\n"
     ]
    }
   ],
   "source": [
    "class Company:\n",
    "    total=0  #公司总数\n",
    "    compay_list=[]  #名称列表\n",
    "    \n",
    "    def __init__(self,name,desc):\n",
    "        self.__name=name\n",
    "        self.__desc=desc\n",
    "        self.__profit=0  #利润\n",
    "        self.__sales_total=0 #销售额\n",
    "        self.__all_cost=0 #总成本\n",
    "        self.__employee_name=''\n",
    "        self.__employee_list=[]\n",
    "        \n",
    "    def recruit(self,employee_name,recruit_cost):\n",
    "        self.__employee_list.append(employee_name)\n",
    "        self.__all_cost+=recruit_cost\n",
    "        Company.total+=1\n",
    "            \n",
    "    def fire(self,employee_name,recruit_cost):\n",
    "        self.____employee_list.remove(employee_name)\n",
    "        self.__all_cost-=recruit_cost\n",
    "        Company.total-=1\n",
    "            \n",
    "    def advertise(self,adv_cost):\n",
    "        self.__all_cost+=adv_cost\n",
    "            \n",
    "    def paySocialSecurity(self,security_cost):\n",
    "        result=security_cost*Company.total\n",
    "        self.__all_cost+=result\n",
    "          \n",
    "    def payTaxRevenue(self,revenue_cost):\n",
    "        result=revenue_cost*Company.total\n",
    "        self.__all_cost+=result\n",
    "            \n",
    "    def sale(self,sale_count,sale_price,sale_profit):\n",
    "        self.__sales_total=sale_count*sale_price\n",
    "        self.__profit=self.__sales_total*sale_profit\n",
    "            \n",
    "    def getCompanyEmployeeList(self):\n",
    "        return self.__employee_list\n",
    "        \n",
    "    def getPureProfit(self):\n",
    "        return self.__profit\n",
    "    \n",
    "    def getAllCost(self):\n",
    "        return self.__all_cost\n",
    "    \n",
    "    @classmethod\n",
    "    def getTotal(cls):\n",
    "        return Company.total\n",
    "    \n",
    "    @classmethod\n",
    "    def getCompayList(cls):\n",
    "        return Company.compay_list\n",
    "    \n",
    "c=Company('july','人工智能AI')\n",
    "c.recruit('zs',7000)\n",
    "print('总人数',Company.getTotal())\n",
    "c.paySocialSecurity(20000)\n",
    "print('总成本',c.getAllCost())"
   ]
  },
  {
   "cell_type": "code",
   "execution_count": null,
   "metadata": {},
   "outputs": [],
   "source": []
  },
  {
   "cell_type": "code",
   "execution_count": null,
   "metadata": {},
   "outputs": [],
   "source": []
  },
  {
   "cell_type": "code",
   "execution_count": null,
   "metadata": {},
   "outputs": [],
   "source": []
  }
 ],
 "metadata": {
  "kernelspec": {
   "display_name": "Python 3",
   "language": "python",
   "name": "python3"
  },
  "language_info": {
   "codemirror_mode": {
    "name": "ipython",
    "version": 3
   },
   "file_extension": ".py",
   "mimetype": "text/x-python",
   "name": "python",
   "nbconvert_exporter": "python",
   "pygments_lexer": "ipython3",
   "version": "3.6.5"
  }
 },
 "nbformat": 4,
 "nbformat_minor": 2
}

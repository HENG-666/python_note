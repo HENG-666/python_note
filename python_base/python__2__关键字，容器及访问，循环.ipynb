{
 "cells": [
  {
   "cell_type": "markdown",
   "metadata": {},
   "source": [
    "# （二）容器及使用"
   ]
  },
  {
   "cell_type": "markdown",
   "metadata": {},
   "source": [
    "## 1. Python中的序列    "
   ]
  },
  {
   "cell_type": "markdown",
   "metadata": {},
   "source": [
    "### 序列对象：str，list，tuple\n",
    "\n",
    "##### Tuple \n",
    "    用小括号或无括号命名\n",
    "    Tuple 是只读有序序列。它的许多操作和 List 很接近。\n",
    "    当 Tuple 中的元素是不可变对象时，不可修改，比如基本数据类型，不可变对象 Number，String 等。\n",
    "    当 Tuple 中元素是可变对象时，可进行修改。\n",
    "##### List\n",
    "    用中括号命名。"
   ]
  },
  {
   "cell_type": "code",
   "execution_count": 9,
   "metadata": {},
   "outputs": [
    {
     "name": "stdout",
     "output_type": "stream",
     "text": [
      "True\n",
      "False\n",
      "j\n",
      "julyedu\n",
      "['国内领先的人工智能平台', 'AI']\n",
      "jyuo\n",
      "('julyedu',)\n",
      "len 2\n",
      "reversed [['国内领先的人工智能平台', 'AI'], 'julyedu']\n",
      "sorted [' ', '.', 'c', 'd', 'e', 'j', 'l', 'm', 'o', 'u', 'u', 'y']\n",
      "sorted ['AI教育', 'julyedu']\n",
      "sorted [3, 5, 6, 8, 9, 12]\n",
      "max 12\n",
      "min 3\n",
      "sum 43\n",
      "0 julyedu\n",
      "1 AI教育\n",
      "[('julyedu', 'julyedu'), ('AI教育', ['国内领先的人工智能平台', 'AI'])]\n",
      "[('julyedu', '.com'), ('AI教育', '平台')]\n",
      "<class 'list'>\n",
      "<class 'str'>\n",
      "<class 'tuple'>\n"
     ]
    }
   ],
   "source": [
    "#初始化\n",
    "s1='julyedu.com '\n",
    "l1=['julyedu','AI教育']\n",
    "l2=['.com','平台']\n",
    "l3=[5,12,6,3,8,9]\n",
    "l4=['tensorflow','sklearn','']\n",
    "l5=['','','','']\n",
    "t1=('julyedu',['国内领先的人工智能平台','AI'])\n",
    "\n",
    "#标准操作\n",
    "#成员操作\n",
    "print('julyedu' in t1)\n",
    "print('com' not in s1)\n",
    "\n",
    "#连接与重复(共类型之间)\n",
    "s1*10\n",
    "s1+s1\n",
    "l1*5\n",
    "\n",
    "#索引访问\n",
    "print(s1[0])\n",
    "print(l1[0])\n",
    "print(t1[1])\n",
    "\n",
    "#切片访问\n",
    "print(s1[0:-1:3])\n",
    "print(t1[0:-1])\n",
    "\n",
    "#其它操作\n",
    "print('len',len(t1))\n",
    "print('reversed',list(reversed(t1)))\n",
    "print('sorted',sorted(s1))\n",
    "print('sorted',sorted(l1))\n",
    "print('sorted',sorted(l3))\n",
    "print('max',max(l3))\n",
    "print('min',min(l3))\n",
    "print('sum',sum(l3))\n",
    "\n",
    "#枚举\n",
    "for i,item in enumerate(l1):\n",
    "    print(i,item)\n",
    "    \n",
    "#序列拼接\n",
    "print(list(zip(l1,t1)))\n",
    "print(list(zip(l1,l2)))\n",
    "\n",
    "#any判断对象是否为空对象，如果都为空、0、false，则返回false，如果不都为空、0、false，则返回true\n",
    "any(l4)#l4中有空元素，但也有不为空的元素\n",
    "any(l5)#l5中的元素全部为空，0或者false,any返回的就是false\n",
    "\n",
    "#all判断对象中的所有元素不为0、''、False或者x为空对象，则返回True，否则返回False\n",
    "all(l4)#l4中有一个空元素，则返回False\n",
    "all(l3)#l5中的元素全部为空，0或者false,any返回的就是false\n",
    "\n",
    "#类型转换\n",
    "print(type(list(t1)))\n",
    "print(type(str(l1)))\n",
    "print(type(tuple(s1)))"
   ]
  },
  {
   "cell_type": "markdown",
   "metadata": {},
   "source": [
    "### 列表 List"
   ]
  },
  {
   "cell_type": "code",
   "execution_count": 28,
   "metadata": {},
   "outputs": [
    {
     "name": "stdout",
     "output_type": "stream",
     "text": [
      "6\n",
      "True\n",
      "True\n",
      "tensorflow\n",
      "['julyedu.com', 'tensorflow', 'sklearn']\n",
      "['sklearn', 'julyedu.com', 'AI', 'Caffe', 'sklearn', 'AI', [1, 2, 3, 4, 5]]\n",
      "del ['sklearn', 'julyedu.com', 'AI', 'Caffe', 'sklearn', 'AI']\n",
      "remove ['sklearn', 'julyedu.com', 'Caffe', 'sklearn', 'AI']\n",
      "reversed ['AI', 'sklearn', 'Caffe', 'julyedu.com', 'sklearn']\n",
      "sorted ['AI', 'Caffe', 'julyedu.com', 'sklearn', 'sklearn']\n"
     ]
    }
   ],
   "source": [
    "#初始化\n",
    "l1=['julyedu.com','AI','tensorflow','','sklearn','AI']\n",
    "l2=list(range(1,6))\n",
    "l3=list(range(1,18,2))\n",
    "\n",
    "#列表长度\n",
    "print(len(l1))\n",
    "\n",
    "#成员操作\n",
    "print('AI' in l1)\n",
    "print('tensor' not in l1)\n",
    "\n",
    "#列表访问，索引与切片\n",
    "print(l1[2])\n",
    "print(l1[0:-1:2])\n",
    "\n",
    "#列表内部操作\n",
    "l1[3]='Caffe' #赋值\n",
    "l1.append(l2) #追加到末尾，如果元素是列表，也是按列表追加进来\n",
    "l1.extend(['Torch']) #扩展，如果扩展元素是列表，是只添加列表内的元素\n",
    "l1.insert(0,'sklearn') #指定位置插入\n",
    "l1.index('sklearn') #获取指定位置元素的索引位置，如果存在相同的元素，返回从右到左的第一个元素\n",
    "l1.count('AI') #计数\n",
    "l1.pop() #返回并弹出\n",
    "l1.pop(3) #返回并弹出指定位置的元素\n",
    "\n",
    "print(l1)\n",
    "del l1[-1]\n",
    "print('del',l1) #删除列表元素，按索引位置删除\n",
    "l1.remove('AI')\n",
    "print('remove',l1) #指定元素删除，如果存在相同元素，则删除从左到右第一个元素\n",
    "\n",
    "#列表操作\n",
    "print('reversed',list(reversed(l1)))\n",
    "print('sorted',list(sorted(l1)))\n"
   ]
  },
  {
   "cell_type": "markdown",
   "metadata": {},
   "source": [
    "### 列表推导式\n",
    "定义:\n",
    "列表推导式也叫列表解析式(list comprehension)， 是利用现有列表创建新列表。\n",
    "□ 这种可以非常简洁的方式来快速生成满足特定需求的列表，代码可读性强。\n",
    "□ Python 的内部实现对列表推导式做了大量优化，可以保证很快的运行速度。\n",
    "\n",
    "语法:\n",
    "□ [表达式for变量in列表]\n",
    "□ [表达式for变量in列表if条件]"
   ]
  },
  {
   "cell_type": "code",
   "execution_count": 31,
   "metadata": {},
   "outputs": [
    {
     "name": "stdout",
     "output_type": "stream",
     "text": [
      "[288, 289, 290, 291, 292, 293, 294, 295, 296, 297, 298, 299]\n",
      "[0, 2, 4, 6, 8]\n",
      "[(0, 0), (0, 1), (0, 2), (0, 3), (0, 4), (1, 0), (1, 1), (1, 2), (1, 3), (1, 4), (2, 0), (2, 1), (2, 2), (2, 3), (2, 4), (3, 0), (3, 1), (3, 2), (3, 3), (3, 4), (4, 0), (4, 1), (4, 2), (4, 3), (4, 4)]\n"
     ]
    }
   ],
   "source": [
    "l1=list(range(300))\n",
    "\n",
    "print([x for x in l1 if x>=288])\n",
    "\n",
    "#从一个列表中\n",
    "print([i for i in range(9) if i%2==0])\n",
    "\n",
    "#从两个列表中进行推导\n",
    "print([(i,j) for i in range(5) for j in range(5)])"
   ]
  },
  {
   "cell_type": "markdown",
   "metadata": {},
   "source": [
    "### 元组 Tuple"
   ]
  },
  {
   "cell_type": "code",
   "execution_count": 41,
   "metadata": {},
   "outputs": [
    {
     "name": "stdout",
     "output_type": "stream",
     "text": [
      "t1 id: 4481313592\n",
      "t1[-1] id： 4481289608\n",
      "(1, 2, 3, [4, 5, 6, 7])\n",
      "t1[-1] id： 4481289608\n"
     ]
    }
   ],
   "source": [
    "#可认为是一个只读列表\n",
    "\n",
    "#tuple成员操作\n",
    "t1=(5,6,7)\n",
    "#print(t1+4) #报错  TypeError: can only concatenate tuple (not \"int\") to tuple\n",
    "#通常我们在命令行输入4,5,6返回的是一个tuple\n",
    "#而只输入4时，返回的是一个数值型\n",
    "t1+(4,) #(4,)属于一个元组，元组之间可以进行添加\n",
    "\n",
    "#解包unpack\n",
    "# a,b,c,d=t1\n",
    "t1=(1,2,3,[4,5,6])\n",
    "# print(t1) #ValueError: not enough values to unpack (expected 4, got 3)\n",
    "\n",
    "# t1[0]=0 #TypeError: 'tuple' object does not support item assignment\n",
    "\n",
    "#列表可修改\n",
    "print('t1 id:',id(t1))\n",
    "print('t1[-1] id：',id(t1[-1]))\n",
    "\n",
    "t1[-1].append(7)\n",
    "print(t1) #(1, 2, 3, [4, 5, 6, 7])\n",
    "print('t1[-1] id：',id(t1[-1])) # t1[-1] id： 4481289608"
   ]
  },
  {
   "cell_type": "markdown",
   "metadata": {},
   "source": [
    "### 集合Set\n",
    "一组 key 的无序排列集合，因此无法用索引及切片访问。\n",
    "主要作用:\n",
    "□ 用于去重及集合间操作"
   ]
  },
  {
   "cell_type": "code",
   "execution_count": 52,
   "metadata": {},
   "outputs": [
    {
     "name": "stdout",
     "output_type": "stream",
     "text": [
      "True\n",
      "False\n",
      "{'AI', 'f', 'julyedu.com', 'julyedu'}\n",
      "{'f', 'julyedu.com', 'julyedu'}\n",
      "{'julyedu'}\n",
      "{'AI', 'Caffe', 'f', 'apple', 'julyedu.com', 'julyedu'}\n",
      "{'f', 'julyedu.com'}\n",
      "None\n"
     ]
    }
   ],
   "source": [
    "l1=['julyedu','julyedu.com','julyedu','AI']\n",
    "l2=['Caffe','julyedu','apple','AI']\n",
    "\n",
    "#初始化\n",
    "a=set(l1)\n",
    "b=set(l2)\n",
    "\n",
    "# a[0] #TypeError: 'set' object does not support indexing\n",
    "\n",
    "#成员操作\n",
    "print('AI' in a)\n",
    "print('Caffe' not in b)\n",
    "\n",
    "#内部操作\n",
    "a.add('f') #添加key\n",
    "print(a)\n",
    "a.remove('AI')\n",
    "print(a)\n",
    "\n",
    "# & 交集\n",
    "print(a&b)\n",
    "\n",
    "# | 并集\n",
    "print(a|b)\n",
    "\n",
    "# - 差集\n",
    "print(a-b)\n",
    "\n",
    "#集合合并\n",
    "print(a.update(b))"
   ]
  },
  {
   "cell_type": "markdown",
   "metadata": {},
   "source": [
    "### 字典 Dictionary"
   ]
  },
  {
   "cell_type": "code",
   "execution_count": 62,
   "metadata": {},
   "outputs": [
    {
     "name": "stdout",
     "output_type": "stream",
     "text": [
      "True\n",
      "False\n",
      "{'name': 'jack', 'age': 24, 'address': 'beijing'}\n",
      "jack\n",
      "jack\n",
      "dict_keys(['name', 'age', 'address'])\n",
      "dict_values(['jack', 24, 'beijing'])\n",
      "dict_items([('name', 'jack'), ('age', 24), ('address', 'beijing')])\n",
      "{'name': 'jack', 'age': 24}\n",
      "{'name': 'jack'}\n",
      "{}\n",
      "-3208227752651135475\n"
     ]
    }
   ],
   "source": [
    "#K：V对应\n",
    "\n",
    "#初始化\n",
    "d1={'name':'jack','age':24}\n",
    "d2=dict({'salary':9999,'level':5})\n",
    "\n",
    "#成员判断（针对key）\n",
    "print('name' in d1)\n",
    "print('address' in d1)\n",
    "\n",
    "#新增成员\n",
    "d1['address']='beijing'\n",
    "print(d1)\n",
    "\n",
    "#访问：按key访问value\n",
    "print(d1['name'])\n",
    "print(d1.get('name',-1))\n",
    "#访问所有key\n",
    "print(d1.keys())\n",
    "#访问所有value\n",
    "print(d1.values())\n",
    "#访问所有元素\n",
    "print(d1.items())\n",
    "\n",
    "#删除成员\n",
    "d1.pop('address') #返回指定key的值并弹出\n",
    "print(d1)\n",
    "d1.popitem() #返回整个元素并弹出\n",
    "print(d1)\n",
    "\n",
    "#清空\n",
    "d1.clear()\n",
    "print(d1)\n",
    "\n",
    "#key值的选取，能被hash的值都可以作为key，即不可变类型可以作为key值\n",
    "print(hash('a'))"
   ]
  },
  {
   "cell_type": "markdown",
   "metadata": {},
   "source": [
    "## 2. Python内存管理"
   ]
  },
  {
   "cell_type": "code",
   "execution_count": 68,
   "metadata": {},
   "outputs": [
    {
     "name": "stdout",
     "output_type": "stream",
     "text": [
      "AI\n",
      "julyedu\n",
      "a id == b id False\n",
      "AI\n",
      "2\n",
      "3\n"
     ]
    }
   ],
   "source": [
    "#引用概念\n",
    "a='julyedu' #python在内存中创建了一个字符串，然后创建了a这个变量去指向这个字符串\n",
    "b=a #创建了一个变量b，并把它引向变量a指向的字符串julyedu\n",
    "\n",
    "a='AI' #这时在内存中创建了一个字符串AI，并把变量a的指向重新指向AI这个字符串\n",
    "print(a)\n",
    "print(b) #b的指向并没有变，还是 julyedu\n",
    "print('a id == b id',id(a)==id(b))\n",
    "\n",
    "c=a #再创建一个变量c，指向a所指向的字符串AI\n",
    "del a #删除的是b这个引用，而非AI这个字符串,所以c这个变量指向的还是AI这个字符串\n",
    "print(c)\n",
    "\n",
    "del c #这时AI字符串的最后一个引用c也被删除了,我们就无法再去访问AI这个字符串了\n",
    "# print(c) #NameError: name 'c' is not defined\n",
    "\n",
    "#在Python中，每个对象都有存有指向该对象的引用总数，即引用计数 (reference count)。\n",
    "#我们可以使用 sys 包中的 getrefcount()，来查看某个对象的引用计数。\n",
    "#需要注意的是，当使用某个引用作为参数，传递给 getrefcount() 时，参数实际上创建了一个临时的引用。\n",
    "#因此，getrefcount() 所得到的结果，会比期望的多 1。\n",
    "\n",
    "from sys import getrefcount\n",
    "a=[1,2,3]\n",
    "print(getrefcount(a))\n",
    "\n",
    "b=a\n",
    "print(getrefcount(a))"
   ]
  },
  {
   "cell_type": "markdown",
   "metadata": {},
   "source": [
    "### 可变与不可变对象"
   ]
  },
  {
   "cell_type": "code",
   "execution_count": 76,
   "metadata": {},
   "outputs": [
    {
     "name": "stdout",
     "output_type": "stream",
     "text": [
      "5 5\n",
      "[1, 2, 3] 5\n",
      "[1, 2, 3] [1, 2, 3] [1, 2, 3]\n",
      "[1, 2, 3, 4] [1, 2, 3, 4] [1, 2, 3, 4]\n",
      "id(a): 4481480048 id(b): 4481261384 id(c): 4481261384\n",
      "shanghai beijing beijing\n"
     ]
    }
   ],
   "source": [
    "#知识点：引用与对象分离\n",
    "\n",
    "a=b=c=5 #创建了三个变量，均指向一个int类型的对象5，一个对象可以被多个引用指向\n",
    "del c #删除c这个变量对5的引用\n",
    "print(a,b)\n",
    "# print(a,b,c) #NameError: name 'c' is not defined\n",
    "a=[1,2,3] #把a这个变量的指向，重新指向了一个列表对象，引用可以随时指向一个新的对象\n",
    "print(a,b) #b依旧指向5，5没有被改变\n",
    "\n",
    "#什么是可变对象？\n",
    "a=b=c=[1,2,3]\n",
    "print(a,b,c)\n",
    "a.append(4) #通过a能真正改变列表[1,2,3],\n",
    "print(a,b,c) #通过引用其元素，改变对象自身\n",
    "\n",
    "#什么是不可变对象？\n",
    "a=b=c='beijing'\n",
    "a='shanghai'\n",
    "#打印a,b,c,d指向对象的id，看看是否是一个家伙\n",
    "print('id(a):',id(a),'id(b):',id(b),'id(c):',id(c))\n",
    "#看似是把a变量指向的字符串从beijing，改为shanghai,但其它并没有改变beijing，只是a的指向被改变了\n",
    "print(a,b,c)\n",
    "#不能改变对象本身，只能改变引用的指向"
   ]
  },
  {
   "cell_type": "markdown",
   "metadata": {},
   "source": [
    "## 3. 练习"
   ]
  },
  {
   "cell_type": "markdown",
   "metadata": {},
   "source": [
    "#### 1.使用列表推导式找出单词长度大于n的单词"
   ]
  },
  {
   "cell_type": "code",
   "execution_count": 79,
   "metadata": {},
   "outputs": [
    {
     "name": "stdout",
     "output_type": "stream",
     "text": [
      "['julyedu.com', 'tensorflow', 'sklearn']\n"
     ]
    }
   ],
   "source": [
    "l1=['julyedu.com','AI','tensorflow','','sklearn','AI','com']\n",
    "print([x for x in l1 if len(x)>3])"
   ]
  },
  {
   "cell_type": "markdown",
   "metadata": {},
   "source": [
    "#### 2. 使用列表推导式寻找两个列表中的相同元素"
   ]
  },
  {
   "cell_type": "code",
   "execution_count": 81,
   "metadata": {},
   "outputs": [
    {
     "name": "stdout",
     "output_type": "stream",
     "text": [
      "[('sklearn', 'sklearn'), ('AI', 'AI')]\n"
     ]
    }
   ],
   "source": [
    "l1=['tensorflow','sklearn','AI']\n",
    "l2=['python','sklearn','AI']\n",
    "print([(x,y) for x in l1 for y in l2 if x==y])"
   ]
  },
  {
   "cell_type": "markdown",
   "metadata": {},
   "source": [
    "#### 3.去除一个列表中相邻且重复的元素。"
   ]
  },
  {
   "cell_type": "code",
   "execution_count": 82,
   "metadata": {},
   "outputs": [
    {
     "name": "stdout",
     "output_type": "stream",
     "text": [
      "['tensorflow', 'AI', 'sklearn']\n"
     ]
    }
   ],
   "source": [
    "l1=['tensorflow','sklearn','AI','AI','sklearn']\n",
    "print(list(set(l1)))"
   ]
  },
  {
   "cell_type": "markdown",
   "metadata": {},
   "source": [
    "#### 4.用户名密码对应\n",
    "给定两个列表，一个存放用户名，一个存放密码。请将用户名和密码按顺序进行对应为一个元素。"
   ]
  },
  {
   "cell_type": "code",
   "execution_count": 83,
   "metadata": {},
   "outputs": [
    {
     "name": "stdout",
     "output_type": "stream",
     "text": [
      "[('u3', 'p3'), ('u1', 'p2'), ('u2', 'p1')]\n"
     ]
    }
   ],
   "source": [
    "d1={'u1','u2','u3'}\n",
    "d2={'p1','p2','p3'}\n",
    "print(list(zip(d1,d2)))"
   ]
  },
  {
   "cell_type": "markdown",
   "metadata": {},
   "source": [
    "#### 5. 使用列表推导式计算笛卡尔积（组合）\n",
    "词频统计\n",
    "利用dict统计词频\n",
    "对每个参数进行判断，若在则对应的value+1\n",
    "否则根据该字符创建一个key并且value设置为1\n",
    "最后输出该词典"
   ]
  },
  {
   "cell_type": "code",
   "execution_count": 84,
   "metadata": {},
   "outputs": [
    {
     "name": "stdout",
     "output_type": "stream",
     "text": [
      "{'sklearn': 2, 'AI': 2, 'julyedu.com': 1, 'Caffe': 1}\n"
     ]
    }
   ],
   "source": [
    "l1=['sklearn','AI','julyedu.com','Caffe','AI','sklearn']\n",
    "base={}.fromkeys(l1,0)\n",
    "for item in l1:\n",
    "    base[item]+=1\n",
    "print(base)"
   ]
  },
  {
   "cell_type": "markdown",
   "metadata": {},
   "source": [
    "#### 6. 实现行列互转\n",
    "fib数列[数组实现]"
   ]
  },
  {
   "cell_type": "code",
   "execution_count": 89,
   "metadata": {},
   "outputs": [
    {
     "data": {
      "text/plain": [
       "[[1, 4, 7, 10], [2, 5, 8, 11], [3, 6, 9, 12]]"
      ]
     },
     "execution_count": 89,
     "metadata": {},
     "output_type": "execute_result"
    }
   ],
   "source": [
    "import numpy as np\n",
    "arr= [[1, 2, 3], [4, 5, 6], [7,8, 9], [10, 11, 12]]\n",
    "np.array(arr).T.tolist()"
   ]
  },
  {
   "cell_type": "code",
   "execution_count": 90,
   "metadata": {},
   "outputs": [
    {
     "name": "stdout",
     "output_type": "stream",
     "text": [
      "[(1, 4, 7, 10), (2, 5, 8, 11), (3, 6, 9, 12)]\n"
     ]
    }
   ],
   "source": [
    "arr= [[1, 2, 3], [4, 5, 6], [7,8, 9], [10, 11, 12]]\n",
    "print(list(zip(arr[0],arr[1],arr[2],arr[3])))"
   ]
  },
  {
   "cell_type": "markdown",
   "metadata": {},
   "source": [
    "#### 7.实现求指定长度的Fibonacci数列\n",
    "Fib数组初始为[0,1]\n",
    "分别要求使用循环和数组实现\n",
    "F0 = 0     (n=0)\n",
    "F1 = 1    (n=1)\n",
    "Fn = F[n-1]+ F[n-2](n=>2)"
   ]
  },
  {
   "cell_type": "code",
   "execution_count": 91,
   "metadata": {},
   "outputs": [
    {
     "data": {
      "text/plain": [
       "[0, 1, 1, 2, 3, 5, 8, 13, 21, 34]"
      ]
     },
     "execution_count": 91,
     "metadata": {},
     "output_type": "execute_result"
    }
   ],
   "source": [
    "def fibonacci(n):\n",
    "    fib=[0,1]\n",
    "    a=fib[0]\n",
    "    b=fib[1]\n",
    "    i=2\n",
    "    while i<n:\n",
    "        temp=a\n",
    "        a=b\n",
    "        b=a+temp\n",
    "        fib.append(b)\n",
    "        i+=1\n",
    "    return fib\n",
    "\n",
    "fibonacci(10)"
   ]
  },
  {
   "cell_type": "code",
   "execution_count": 4,
   "metadata": {},
   "outputs": [
    {
     "name": "stdout",
     "output_type": "stream",
     "text": [
      "total 48.84060068717216\n"
     ]
    },
    {
     "data": {
      "text/plain": [
       "['2/1',\n",
       " '3/2',\n",
       " '5/3',\n",
       " '8/5',\n",
       " '13/8',\n",
       " '21/13',\n",
       " '34/21',\n",
       " '55/34',\n",
       " '89/55',\n",
       " '144/89',\n",
       " '233/144',\n",
       " '377/233',\n",
       " '610/377',\n",
       " '987/610',\n",
       " '1597/987',\n",
       " '2584/1597',\n",
       " '4181/2584',\n",
       " '6765/4181',\n",
       " '10946/6765',\n",
       " '17711/10946',\n",
       " '28657/17711',\n",
       " '46368/28657',\n",
       " '75025/46368',\n",
       " '121393/75025',\n",
       " '196418/121393',\n",
       " '317811/196418',\n",
       " '514229/317811',\n",
       " '832040/514229',\n",
       " '1346269/832040',\n",
       " '2178309/1346269']"
      ]
     },
     "execution_count": 4,
     "metadata": {},
     "output_type": "execute_result"
    }
   ],
   "source": [
    "def fibonacci(n):\n",
    "    fib=[]\n",
    "    fm=1 # 分母\n",
    "    fz=2 # 分子\n",
    "    i=2\n",
    "    total=0\n",
    "    for i in range(1,n+1):\n",
    "        total += fz/fm\n",
    "        fib.append('%d/%d'%(fz,fm))\n",
    "        fm,fz=fz,fm+fz\n",
    "        i+=1\n",
    "    print('total',total)\n",
    "    return fib\n",
    "\n",
    "fibonacci(30)"
   ]
  },
  {
   "cell_type": "code",
   "execution_count": 92,
   "metadata": {},
   "outputs": [
    {
     "data": {
      "text/plain": [
       "[0, 1, 1, 2, 3, 5, 8, 13, 21, 34]"
      ]
     },
     "execution_count": 92,
     "metadata": {},
     "output_type": "execute_result"
    }
   ],
   "source": [
    "import numpy as np\n",
    "def fibonacci2(n):\n",
    "    fib=[0,1]\n",
    "    a=np.zeros(n)\n",
    "    a[0]=fib[0]\n",
    "    a[1]=fib[1]\n",
    "    for i in range(2,n):\n",
    "        a[i]=a[i-1]+a[i-2]\n",
    "        fib.append(int(a[i]))\n",
    "    return fib\n",
    "\n",
    "fibonacci2(10)"
   ]
  },
  {
   "cell_type": "markdown",
   "metadata": {},
   "source": [
    "#### 8. [ ]对应检查\n",
    "输入含有[]的字符串，输出对中括号出现规则的检测结果\n",
    "[] OK ][ NOT OK\n",
    "\n",
    "[][] OK ][][ NOT OK\n",
    "\n",
    "[[][]] OK []][[] NOT OK\n",
    "\n",
    "[[][[]]] OK ][]][[][ NOT OK"
   ]
  },
  {
   "cell_type": "code",
   "execution_count": 96,
   "metadata": {},
   "outputs": [
    {
     "name": "stdout",
     "output_type": "stream",
     "text": [
      "[]][[]\n",
      "NOT OK\n"
     ]
    }
   ],
   "source": [
    "s=input()\n",
    "dictbase={'[':0,']':0}\n",
    "if s.count('[')!=s.count(']'):\n",
    "    print(\"'[' and ']'have different number\")\n",
    "else:\n",
    "    for i in s:\n",
    "        if i=='[':\n",
    "            dictbase['[']+=1\n",
    "        elif (i==']') and (dictbase[']']<dictbase['[']):\n",
    "            dictbase[']']+=1\n",
    "        else:\n",
    "            pass\n",
    "        \n",
    "if (dictbase['[']==dictbase[']']) and (dictbase['[']!=0):\n",
    "    print('OK')\n",
    "elif dictbase['[']!=0:\n",
    "    print('NOT OK')\n",
    "else:\n",
    "    pass"
   ]
  },
  {
   "cell_type": "code",
   "execution_count": null,
   "metadata": {},
   "outputs": [],
   "source": []
  },
  {
   "cell_type": "code",
   "execution_count": null,
   "metadata": {},
   "outputs": [],
   "source": []
  }
 ],
 "metadata": {
  "kernelspec": {
   "display_name": "Python 3",
   "language": "python",
   "name": "python3"
  },
  "language_info": {
   "codemirror_mode": {
    "name": "ipython",
    "version": 3
   },
   "file_extension": ".py",
   "mimetype": "text/x-python",
   "name": "python",
   "nbconvert_exporter": "python",
   "pygments_lexer": "ipython3",
   "version": "3.6.5"
  }
 },
 "nbformat": 4,
 "nbformat_minor": 2
}

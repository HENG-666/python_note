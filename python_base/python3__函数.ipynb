{
 "cells": [
  {
   "cell_type": "markdown",
   "metadata": {},
   "source": [
    "## （三）函数\n",
    "\n",
    "函数是组织好的，可重复使用的，用来实现单一，或相关联功能的代码段。\n",
    "\n",
    "函数能提高应用的模块性，和代码的重复利用率。\n",
    "\n",
    "你已经知道Python提供了许多内建函数，比如print()。\n",
    "\n",
    "但你也可以自己创建函数，这被叫做用户自定义函数。\n",
    "\n",
    "#### 自定义函数\n",
    "\n",
    "函数名以 def 关键词开头，后接函数标识符名称和圆括号()。\n",
    "\n",
    "任何传入参数和自变量必须放在圆括号中间。圆括号之间可以用于定义参数。\n",
    "\n",
    "函数体以冒号起始，并且缩进。\n",
    "\n",
    "return [表达式] 结束函数，选择性地返回一个值给调用方。不带表达式的 return 相当于返回 None。\n",
    "\n",
    "#### 函数中的参数\n",
    "参数:\n",
    "语法:\n",
    "func(positional_args,keyword_args,*tuple_nonkw_args,**dict_kw_args)\n",
    "\n",
    "按参数传递方式:\n",
    "\n",
    "     位置参数(定位参数，非关键字参数) :位置顺序十分重要\n",
    "\n",
    "     关键字参数:\n",
    "\n",
    "     位置参数包裹及使用*\n",
    "    \n",
    "     关键字参数包裹及使用**\n",
    "\n",
    "     包裹解包顺序\n",
    "\n",
    "     传递参数时使用包裹\n",
    "\n",
    "按参数的类型:\n",
    "\n",
    "     必选(位置参数)\n",
    "\n",
    "     关键字/默认\n",
    "\n",
    "     *args可变长位置参数，**kwargs可变长关键字参数"
   ]
  },
  {
   "cell_type": "markdown",
   "metadata": {},
   "source": [
    "### 1. Python 中的函数"
   ]
  },
  {
   "cell_type": "code",
   "execution_count": 19,
   "metadata": {},
   "outputs": [
    {
     "name": "stdout",
     "output_type": "stream",
     "text": [
      "0\n",
      "1\n",
      "2\n",
      "3\n",
      "4\n",
      "foo1 10\n",
      "foo2 None\n",
      "foo3 (10, 20)\n",
      "i'm foo1,but i return nothing\n",
      "i'm foo2, this is what i return\n",
      "i'm foo3, this is the first return\n",
      "<generator object foo5 at 0x10f314f10>\n",
      "<class 'generator'>\n",
      "0\n",
      "f\n",
      "1\n",
      "f\n"
     ]
    }
   ],
   "source": [
    "n=5\n",
    "# for i in range(n):\n",
    "#     print(i)\n",
    "    \n",
    "#一函数名对以上代码块进行封装\n",
    "def foo(num):\n",
    "    for i in range(num):\n",
    "        print(i)\n",
    "\n",
    "#函数调用\n",
    "foo(5)\n",
    "\n",
    "#函数的定义 \n",
    "def foo1(num): #函数名和参数\n",
    "    #函数体\n",
    "    sum=0 #函数内部的变量\n",
    "    for i in range(num):\n",
    "        sum+=i\n",
    "    #返回值\n",
    "    return sum\n",
    "\n",
    "print('foo1',foo1(5))\n",
    "    \n",
    "#函数的返回值，无返回值 \n",
    "def foo2(num): #函数名和参数\n",
    "    #函数体\n",
    "    sum=0 #函数内部的变量\n",
    "    for i in range(num):\n",
    "        sum+=i\n",
    "    #无返回值或return后为空\n",
    "#     return sum\n",
    "\n",
    "print('foo2',foo2(5))\n",
    "\n",
    "#函数的返回值，有返回值 \n",
    "def foo3(num): #函数名和参数\n",
    "    #函数体\n",
    "    sum=0 #函数内部的变量\n",
    "    for i in range(num):\n",
    "        sum+=i\n",
    "    return sum,sum*2\n",
    "\n",
    "print('foo3',foo3(5))\n",
    "\n",
    "#return与yield关键字\n",
    "\n",
    "#return \n",
    "def foo1():#不返回任何的函数\n",
    "    print('i\\'m foo1,but i return nothing')\n",
    "\n",
    "def foo2():#使用return返回值\n",
    "    return 'i\\'m foo2, this is what i return'\n",
    "\n",
    "def foo3():#函数被调用时，遇到结尾或return时就准备结束了。\n",
    "    return 'i\\'m foo3, this is the first return'\n",
    "    return 'i\\'m foo3, this is the secod return'\n",
    "\n",
    "#yield\n",
    "def foo4():\n",
    "    for i in range(5):\n",
    "        return i#执行第一次时foo4函数就结束了\n",
    "\n",
    "    \n",
    "#yield\n",
    "def foo5():\n",
    "    for i in range(5):\n",
    "        yield i\n",
    "        yield 'f' #再加入一个yield看看会不会被执行\n",
    "        i+=1\n",
    "\n",
    "if __name__==\"__main__\":\n",
    "    foo1()\n",
    "    print(foo2())\n",
    "    print(foo3())\n",
    "    g1=foo5()\n",
    "    print(g1)\n",
    "    print(type(g1)) # <generator object foo5 at 0x10f3341a8>\n",
    "    print(next(g1)) # <class 'generator'>\n",
    "    print(next(g1)) # 0\n",
    "    print(next(g1)) # f\n",
    "    print(next(g1)) # 1\n",
    "    #看一下调用foo4()返回的是什么type(g1)\n",
    "    #看一下g1是个什么样子的对象next(g1)\n",
    "    #继续上一次的位置，进入下一层循环\n",
    "    #执行完最后一次循环，结束 yield语句并抛出StopIteration 异常"
   ]
  },
  {
   "cell_type": "markdown",
   "metadata": {},
   "source": [
    "### 2. 函数中的参数\n",
    "\n",
    "func(positional_args,keyword_args,*tuple_nonkw_args,**dict_kw_args)\n"
   ]
  },
  {
   "cell_type": "code",
   "execution_count": 49,
   "metadata": {},
   "outputs": [
    {
     "name": "stdout",
     "output_type": "stream",
     "text": [
      "公司名： 七月在线 公司网址： http://www.julyedu.com\n",
      "公司名： http://www.julyedu.com 公司网址： 七月在线\n",
      "公司名： 七月在线 公司网址： http://www.julyedu.com 介绍： 专注AI教育\n",
      "公司名： 七月在线 公司网址： http://www.julyedu.com 介绍： 国内领先的AI教育平台\n",
      "27\n",
      "<class 'tuple'>\n",
      "mysum2 27\n",
      "<class 'tuple'>\n",
      "mysum2 82\n",
      "<class 'tuple'>\n",
      "mysum2 12\n",
      "<class 'dict'>\n",
      "film : 羞羞的铁拳\n",
      "box : 3.5\n",
      "<class 'dict'>\n",
      "film : 羞羞的铁拳\n",
      "box : 3.5\n",
      "rate : 7.9\n",
      "\n",
      "\n",
      "\n",
      "个人信息: xiaoming 22\n",
      "高中部\n",
      "三年二班\n",
      "课程信息: python\n",
      "每节课成绩:\n",
      "Lesson1 80\n",
      "Lesson2 85\n",
      "个人信息: xiaoming 22\n",
      "三年二班\n",
      "课程信息: machine learning\n",
      "每节课成绩:\n",
      "Lesson1 80\n",
      "Lesson2 85\n",
      "<class 'tuple'>\n",
      "51.5\n",
      "[(1, 2), (3, 4)]\n",
      "<class 'dict'>\n",
      "羞羞的铁拳 : 3.5\n",
      "雷神3 : 3.1\n",
      "战狼2 : 60\n",
      "None\n"
     ]
    }
   ],
   "source": [
    "#按参数传递方式\n",
    "\n",
    "#位置参数\n",
    "def foo3(companyName,websiteUrl): #位置参数的定义\n",
    "    print('公司名：',companyName,'公司网址：',websiteUrl)\n",
    "    \n",
    "foo3('七月在线','http://www.julyedu.com')\n",
    "foo3('http://www.julyedu.com',websiteUrl='七月在线') \n",
    "\n",
    "#位置参数，对位置敏感，传递时不用指定参数名\n",
    "#关键字参数\n",
    "def foo4(companyName,websiteUrl,intro='专注AI教育'):\n",
    "    print('公司名：',companyName,'公司网址：',websiteUrl,'介绍：',intro)\n",
    "    \n",
    "foo4('七月在线','http://www.julyedu.com') #不传关键字参数，函数依旧可以被调用，采用默认值\n",
    "foo4('七月在线','http://www.julyedu.com',intro='国内领先的AI教育平台')#传关键字参数，覆盖默认值\n",
    "\n",
    "#传入不定长个位置参数\n",
    "#位置参数包裹及使用*\n",
    "def mysum1(a,b,c):\n",
    "    return a+b+c\n",
    "\n",
    "print(mysum1(5,7,15))\n",
    "#mysum1(5,7)  #报错，因为传入的参数少于函数定义时的个数\n",
    "#mysum1(5,7,15,22)  #报错，因为传入的参数多于函数定义时的个数\n",
    "\n",
    "#这时需要使用包裹进行接收\n",
    "def mysum2(*args): # args\n",
    "    print(type(args))\n",
    "    return sum(args)\n",
    "\n",
    "print('mysum2',mysum2(5,7,15))\n",
    "print('mysum2',mysum2(5,7,15,22,33)) #正常调用\n",
    "print('mysum2',mysum2(5,7)) #正常调用\n",
    "\n",
    "#传入不定长关键字参数，也可以使用一个包裹进行接收\n",
    "#关键字参数包裹及使用**\n",
    "def filmInfo(**kwargs):  # keyword-args\n",
    "    print(type(kwargs))\n",
    "    for key,values in kwargs.items():\n",
    "        print(key,':',values)\n",
    "\n",
    "filmInfo(film='羞羞的铁拳',box=3.5)\n",
    "filmInfo(film='羞羞的铁拳',box=3.5,rate=7.9)\n",
    "# d1={'羞羞的铁拳':3.5,'box':3.5}\n",
    "\n",
    "print('\\n\\n')\n",
    "#包裹解包顺序\n",
    "#首先拆位置参数包裹，按顺序给必选，默认，可变。\n",
    "#再抓给关键字参数包裹\n",
    "def scoreReport(name,age,*args,course='python',**kwargs):\n",
    "    print('个人信息:',name,age)\n",
    "    for item in args:\n",
    "        print(item)\n",
    "    print('课程信息:',course)\n",
    "    print('每节课成绩:')\n",
    "    for key,value in kwargs.items():\n",
    "        print (key,value)\n",
    "        \n",
    "scoreReport('xiaoming',22,'高中部','三年二班',Lesson1=80,Lesson2=85)\n",
    "scoreReport('xiaoming',22,'三年二班',course='machine learning',Lesson1=80,Lesson2=85)\n",
    "\n",
    "\n",
    "def mysum2(*args): # args\n",
    "    print(type(args))\n",
    "    return sum(args)\n",
    "#传递参数时使用包裹-位置参数\n",
    "l1=[1,5,6,7,2,5,3.5,9,6,3,4]\n",
    "print(mysum2(*l1))\n",
    "\n",
    "#zip案例\n",
    "l1=[(1,3),(2,4)]\n",
    "print(list(zip(*l1)))\n",
    "\n",
    "\n",
    "def filmInfo(**kwargs):  # keyword-args\n",
    "    print(type(kwargs))\n",
    "    for key,values in kwargs.items():\n",
    "        print(key,':',values)\n",
    "##传递参数时使用包裹-关键字型参数\n",
    "d1={'羞羞的铁拳':3.5,'雷神3':3.1,'战狼2':60}\n",
    "print(filmInfo(**d1))"
   ]
  },
  {
   "cell_type": "markdown",
   "metadata": {},
   "source": [
    "### 3. 参数传递的处理"
   ]
  },
  {
   "cell_type": "code",
   "execution_count": 55,
   "metadata": {},
   "outputs": [
    {
     "name": "stdout",
     "output_type": "stream",
     "text": [
      "before reference: 7 julyedu\n",
      "In foo1 a,b has changed to 8 julyedu.com\n",
      "after reference: 7 julyedu\n",
      ">>>>>>>>>>>>>>>>>>>>>>>>>>>>>>>>>>>>>>>>\n",
      "before reference: [1, 2, 3.4] {'name': 'jack'}\n",
      "after reference: [1, 2] {'name': 'jack', 'age': 22}\n"
     ]
    }
   ],
   "source": [
    "#值传递，参数本身不会被修改\n",
    "a=7\n",
    "b='julyedu'\n",
    "print('before reference:',a,b)\n",
    "\n",
    "def foo1(a,b):\n",
    "    a+=1\n",
    "    b+='.com'\n",
    "    print('In foo1 a,b has changed to',a,b)\n",
    "    \n",
    "foo1(a,b)\n",
    "\n",
    "print('after reference:',a,b)\n",
    "#结论：值传递时，变量传递给函数后，函数复制一份，不会影响原有变量\n",
    "\n",
    "print('>'*40)\n",
    "\n",
    "#指针传递参数，会修改参数本身\n",
    "l1=[1,2,3.4]\n",
    "d1={'name':'jack'}\n",
    "def foo2(a,b):\n",
    "    a.pop()\n",
    "    b['age']=22\n",
    "    \n",
    "print('before reference:',l1,d1)\n",
    "\n",
    "foo2(l1,d1)\n",
    "\n",
    "print('after reference:',l1,d1)\n",
    "#结论：指针（或引用）传递时，变量传递给函数的是及引用，该引用可以改变原变量"
   ]
  },
  {
   "cell_type": "markdown",
   "metadata": {},
   "source": [
    "### 4. 变量作用域"
   ]
  },
  {
   "cell_type": "code",
   "execution_count": 89,
   "metadata": {},
   "outputs": [
    {
     "name": "stdout",
     "output_type": "stream",
     "text": [
      "list1 [7, 2.5, 'julyedu.com', 'AI教育']\n",
      "函数内部引用全局变量 www.julyedu.com\n",
      "新建局部变量 julyedu.org\n",
      "JulyEdu\n",
      "全局变量 julyedu.org\n"
     ]
    }
   ],
   "source": [
    "#全局变量\n",
    "website='julyedu.com'\n",
    "companyName='七月在线'\n",
    "list1=[7,2.5,'julyedu.com']\n",
    "\n",
    "def getWebsite():\n",
    "    #既想引用又想修改全局变量？ global\n",
    "    global website\n",
    "    website='www.julyedu.com' #并非真正意义修改\n",
    "    #只是改变了website这个引用，指向到了'www.julyedu.com'\n",
    "    list1.append('AI教育') #主要这里的全局变量是list型，因此修改是全局性的\n",
    "    \n",
    "    print('list1',list1)\n",
    "    \n",
    "    #如果想在函数内部引用全局变量呢?直接使用即可\n",
    "    print('函数内部引用全局变量',website)\n",
    "    \n",
    "    #新建局部变量\n",
    "    #貌似是给全局变量赋值，其实是新建了一个局部变量\n",
    "    website='julyedu.org'#函数内部与全局同名，即覆盖\n",
    "    #这个website变量名的生命周期只在该函数被调用时，调用结束，也就结束了。\n",
    "    print('新建局部变量',website)\n",
    "    \n",
    "    #变量搜索顺序，如果要使用的变量名在局部中有，则使用，如果没有则向上一层寻找\n",
    "    companyName='JulyEdu'\n",
    "    print(companyName)\n",
    "    \n",
    "getWebsite() # 调用函数，开始函数内局部变量的生命周期，函数结束后，它们也就结束了。\n",
    "\n",
    "#全局变量\n",
    "print('全局变量',website)"
   ]
  },
  {
   "cell_type": "markdown",
   "metadata": {},
   "source": [
    "### 5.偏函数 PFA\n",
    "偏函数 PFA（Partial function application）\n",
    "\n",
    "使用场景：如果一个函数的参数很多，而在每次调用的时候有些又经常不需要指定时，就可以使用偏函数。\n",
    "\n",
    "**语法：**partical(func,*args,**keywords) \n",
    "\n",
    "**使用：**from functools import partial\n",
    "\n",
    "**原理：**创建一个新函数，**固定住**原函数的部分参数（可以为位置参数，也可以是关键字参数）"
   ]
  },
  {
   "cell_type": "code",
   "execution_count": 96,
   "metadata": {},
   "outputs": [
    {
     "name": "stdout",
     "output_type": "stream",
     "text": [
      "F -> int 15\n",
      "A -> int 10\n",
      "type <class 'functools.partial'>\n"
     ]
    }
   ],
   "source": [
    "#Partial function application(PFA)\n",
    "# 只设置了一部分的参数的函数\n",
    "# 固定一部分参数，使得被调用时，某些参数被固定住了。\n",
    "\n",
    "#例如我们要定义一个函数将传进来的16进制的字符串，转换为10进制的\n",
    "def hex2int(num):\n",
    "    return int(str(num),base=16)#base为关键字参数，这个在调用int这个函数时，固定给16。因为这个函数就是用来转换16进制到10进制\n",
    "\n",
    "print('F -> int',hex2int('F')) #这时调用，相当于实际上会把10作为*args的一部分自动加到左边，也就是：int('F',base=16),这样就少写了一个函数\n",
    "\n",
    "#这时也可以使用偏函数，固定int函数的关键字参数base，可以这样定义：\n",
    "import functools\n",
    "hex2int2=functools.partial(int,base=16)\n",
    "print('A -> int',hex2int2('A'))\n",
    "\n",
    "#偏函数能固定位置参数\n",
    "max100=functools.partial(max,100) #定义一个叫max100的偏函数，将这个偏函数的第一个值固定为100\n",
    "max100(99) #这时调用它，传入的值，都会与100进行比较反并返回。\n",
    "\n",
    "print('type',type(max100)) #偏函数的类型与普通函数不一样"
   ]
  },
  {
   "cell_type": "markdown",
   "metadata": {},
   "source": [
    "### 6.递归"
   ]
  },
  {
   "cell_type": "markdown",
   "metadata": {},
   "source": [
    "递归的方法求一个列表中数值的累加"
   ]
  },
  {
   "cell_type": "code",
   "execution_count": 100,
   "metadata": {},
   "outputs": [
    {
     "name": "stdout",
     "output_type": "stream",
     "text": [
      "1 >>>>>>\n",
      "[2, 31, 5, 6, 55]    >   >   >   >   >   >\n",
      "2 >>>>>>\n",
      "[31, 5, 6, 55]    >   >   >   >   >   >\n",
      "31 >>>>>>\n",
      "[5, 6, 55]    >   >   >   >   >   >\n",
      "5 >>>>>>\n",
      "[6, 55]    >   >   >   >   >   >\n",
      "6 >>>>>>\n",
      "[55]    >   >   >   >   >   >\n",
      "100\n"
     ]
    }
   ],
   "source": [
    "def foo1(num):\n",
    "    if len(num)==1:\n",
    "        return num[0]\n",
    "    else:\n",
    "        print(num[0],'>'*6)\n",
    "        print(num[1:],'   >'*6)\n",
    "        return num[0]+foo1(num[1:])\n",
    "    \n",
    "print(foo1([1,2,31,5,6,55]))"
   ]
  },
  {
   "cell_type": "code",
   "execution_count": null,
   "metadata": {},
   "outputs": [],
   "source": [
    "使用递归分解质因数"
   ]
  },
  {
   "cell_type": "code",
   "execution_count": 101,
   "metadata": {},
   "outputs": [
    {
     "data": {
      "text/plain": [
       "[2, 2, 3]"
      ]
     },
     "execution_count": 101,
     "metadata": {},
     "output_type": "execute_result"
    }
   ],
   "source": [
    "l1=[]\n",
    "def fenji(num):\n",
    "    num=int(num)\n",
    "    for i in range(2,num):\n",
    "        if num%i==0:\n",
    "            l1.append(i)\n",
    "            nextv=int(num/i)\n",
    "            fenji(nextv)\n",
    "            break\n",
    "    return l1\n",
    "\n",
    "fenji(60)"
   ]
  },
  {
   "cell_type": "markdown",
   "metadata": {},
   "source": [
    "阶乘"
   ]
  },
  {
   "cell_type": "code",
   "execution_count": 102,
   "metadata": {},
   "outputs": [
    {
     "data": {
      "text/plain": [
       "120"
      ]
     },
     "execution_count": 102,
     "metadata": {},
     "output_type": "execute_result"
    }
   ],
   "source": [
    "def factorial(n):\n",
    "    if n==1:\n",
    "        return 1\n",
    "    else:\n",
    "        return n*factorial(n-1)\n",
    "factorial(5)"
   ]
  },
  {
   "cell_type": "markdown",
   "metadata": {},
   "source": [
    "### 7.匿名函数 lambda\n",
    "\n",
    "**匿名函数 lambda:**\n",
    "\n",
    "- 使用场景：返回简单，不需要专门定义函数\n",
    "- 特点：简洁，同一行定义体+声明。不用写return\n",
    "- 定义：定义后，赋值给一个变量，做正常函数使用。lambda 关键字定义在高阶函数参数位上\n",
    "- 语法：lambda(args1,args2,argsN):expression"
   ]
  },
  {
   "cell_type": "code",
   "execution_count": 111,
   "metadata": {},
   "outputs": [
    {
     "name": "stdout",
     "output_type": "stream",
     "text": [
      "<class 'function'>\n",
      "3\n",
      "[('China', 15), ('India', 9), ('Japan', 1.5), ('USA', 2)]\n",
      "[('Japan', 1.5), ('USA', 2), ('India', 9), ('China', 15)]\n"
     ]
    }
   ],
   "source": [
    "#匿名函数\n",
    "print(type(lambda a,b:a*b))\n",
    "#定义函数体，不写return\n",
    "\n",
    "#使用1：作为正常函数使用，不推荐\n",
    "foo=lambda x,y:x+y #不写return\n",
    "print(foo(1,2))\n",
    "\n",
    "#使用2：lambda关键字定义在高阶函数的参数位上\n",
    "d1={'China':15,'India':9,'USA':2,'Japan':1.5}\n",
    "#按d1.items()第0个元素升序，国家名\n",
    "print(list(sorted(d1.items(),key=lambda x:(x[0],x[1]))))\n",
    "#按d1.items()第1个元素升序,人口数\n",
    "print(list(sorted(d1.items(),key=lambda x:(x[1]))))"
   ]
  },
  {
   "cell_type": "markdown",
   "metadata": {},
   "source": [
    "### 8.高阶函数\n",
    "函数的引用于调用**\n",
    "\n",
    "- 引用：访问，变量别名（多个别名引用）\n",
    "- 调用：()\n",
    "\n",
    "函数对象可以被引用，也可以作为参数被传入或作为结果被返回\n",
    "\n",
    "**高阶函数：**一个函数接收另一个函数作为参数\n",
    "\n",
    "**回调函数：**函数作为调用函数的结果返回"
   ]
  },
  {
   "cell_type": "code",
   "execution_count": 128,
   "metadata": {},
   "outputs": [
    {
     "name": "stdout",
     "output_type": "stream",
     "text": [
      "<built-in function abs> <built-in function abs>\n",
      "5\n",
      "8.8\n",
      "7\n",
      "22\n",
      "3\n",
      "68\n",
      "[22, 15, 9, 6, 3, 8, 5]\n"
     ]
    },
    {
     "data": {
      "text/plain": [
       "53"
      ]
     },
     "execution_count": 128,
     "metadata": {},
     "output_type": "execute_result"
    }
   ],
   "source": [
    "#函数对象的引用于调用\n",
    "num=5\n",
    "a=b=c=abs\n",
    "#引用\n",
    "print(abs,a)\n",
    "\n",
    "#调用\n",
    "print(a(num))\n",
    "print(b(-8.8))\n",
    "print(c(7))\n",
    "\n",
    "#函数名本质即变量，同一个函数对象可以被多个变量引用\n",
    "def foo(): #新建一个函数对象，并用foo这个变量名对其进行引用 \n",
    "    pass\n",
    "\n",
    "del foo#对函数对象的引用可以删除\n",
    "# foo() #NameError: name 'foo' is not defined\n",
    "\n",
    "#高阶函数\n",
    "def mycalucate(num,func): #将func这个函数作为参数\n",
    "    return func(num)\n",
    "\n",
    "l1=[5,8,3,6,9,15,22]\n",
    "\n",
    "print(mycalucate(l1,max))\n",
    "print(mycalucate(l1,min))\n",
    "print(mycalucate(l1,sum))\n",
    "print(list(mycalucate(l1,reversed)))\n",
    "\n",
    "#回调函数\n",
    "def callbackfunc(*num):\n",
    "    return max(*num)\n",
    "callbackfunc(53,5,33)"
   ]
  },
  {
   "cell_type": "markdown",
   "metadata": {},
   "source": [
    "### 9.BIFS0高阶函数\n",
    "filter:**对每个元素做过滤\n",
    "\n",
    "**map:**对每个函数做映射\n",
    "\n",
    "**reduce:**两两转换传给func\n",
    "\n",
    "Python 3.x 中，reduce() 函数已经从全局名字空间移除，它和 partical() 一样放在 functools 模块中，使用前需要调用。"
   ]
  },
  {
   "cell_type": "code",
   "execution_count": 145,
   "metadata": {},
   "outputs": [
    {
     "name": "stdout",
     "output_type": "stream",
     "text": [
      "True\n",
      "[61, 62]\n",
      "['abc']\n",
      "[(1, 1), (61, 1), (62, 1)]\n"
     ]
    }
   ],
   "source": [
    "l1=[2,3,5,7,3,4,5,9,'julyedu.com',[2,3,3],5,2]\n",
    "\n",
    "filter\n",
    "#语法：filter(function,list)\n",
    "#函数f的作用是对每个元素进行判断，返回true或false，true表示留下，false表示过滤\n",
    "# filter()根据判断结果自动过滤掉不符合条件的元素，返回由符合条件元素组成的新list。\n",
    "\n",
    "def myfilter(x):\n",
    "    if x>60:\n",
    "        return True\n",
    "    else:\n",
    "        return False\n",
    "\n",
    "print(myfilter(61))\n",
    "\n",
    "l1=[1,61,62]\n",
    "\n",
    "print(list(filter(myfilter,l1)))\n",
    "\n",
    "l2=[1,61,62,'abc']\n",
    "print(list(filter(lambda x:True if type(x)==str else False,l2)))\n",
    "\n",
    "#map\n",
    "# 语法：map(function, list)\n",
    "#让list的每一个元素依次调用function函数，并获取返回值存入一个新的list中。\n",
    "\n",
    "print(list(map(lambda x:(x,l1.count(x)),l1)))"
   ]
  },
  {
   "cell_type": "markdown",
   "metadata": {},
   "source": [
    "### 10.闭包\n",
    "闭包的概念：**\n",
    "\n",
    "- 涉及嵌套函数时才有闭包问题\n",
    "- 内层函数引用了外层函数的变量（参数），然后返回内层函数的情况，称为闭包。\n",
    "- 这些外层空间中被引用的变量叫做这个函数的环境变量。\n",
    "- 环境变量和这个非全局函数一起构成了闭包。\n",
    "\n",
    "**闭包的特点：**函数会记住外层函数的变量"
   ]
  },
  {
   "cell_type": "code",
   "execution_count": 152,
   "metadata": {},
   "outputs": [
    {
     "name": "stdout",
     "output_type": "stream",
     "text": [
      "nums_in_function此时在是foo1中，可以被访问： [15, 2, 3, 9, 3.2]\n",
      "15\n",
      "nums_in_function此时在是foo1中，可以被访问： [5, 3, 8]\n",
      "8\n"
     ]
    }
   ],
   "source": [
    "nums_in_global=[15,2,3,9,3.2]#声明一个全局\n",
    "\n",
    "def foo1(nums_in_function):\n",
    "    print('nums_in_function此时在是foo1中，可以被访问：',nums_in_function)\n",
    "    def foo2():\n",
    "        #虽然没有给foo2传入任何参数，但foo2却能访问到foo1中的变量nums_in_function\n",
    "        return max(nums_in_function)\n",
    "        #虽然没有给foo2传入任何参数，但foo2却能访问到全局变量nums_in_global\n",
    "#         return max(nums_in_global)\n",
    "    return foo2\n",
    "\n",
    "print(foo1(nums_in_global)())\n",
    "# print(nums_in_function)# name 'nums_in_function' is not defined\n",
    "\n",
    "#调用\n",
    "print(foo1([5,3,8])())"
   ]
  },
  {
   "cell_type": "markdown",
   "metadata": {},
   "source": [
    "### 11.装饰器\n",
    "**定义：**以函数作参数并返回一个替换函数的可执行函数\n",
    "\n",
    "**简单理解：**\n",
    "\n",
    "- 装饰器的作用就是为已存在的对象添加额外功能\n",
    "- 为一个函数增加一个装饰（用另一个函数装饰）\n",
    "- 本质上就一个返回函数的高阶函数\n",
    "\n",
    "**应用：**给函数动态增加功能（函数）"
   ]
  },
  {
   "cell_type": "code",
   "execution_count": 156,
   "metadata": {},
   "outputs": [
    {
     "name": "stdout",
     "output_type": "stream",
     "text": [
      "this is foo1 function\n",
      "2018-07-25 15:21:41.910571\n",
      "this is foo2 function\n",
      "2018-07-25 15:21:41.910703\n",
      "this is foo3 function\n",
      "2018-07-25 15:21:41.910798\n"
     ]
    }
   ],
   "source": [
    "#现有如下 三个函数\n",
    "def foo1():\n",
    "    print ('this is foo1 function')\n",
    "\n",
    "def foo2():\n",
    "    print ('this is foo2 function')\n",
    "\n",
    "def foo3():\n",
    "    print ('this is foo3 function')\n",
    "    \n",
    "#现在想为每一个函数都添加一个打印当前时间的功能\n",
    "#一种解决办法是一个一个修改，在底部添加代码\n",
    "import datetime\n",
    "def foo1():\n",
    "    print ('this is foo1 function')\n",
    "    print(datetime.datetime.now())\n",
    "\n",
    "def foo2():\n",
    "    print ('this is foo2 function')\n",
    "    print(datetime.datetime.now())\n",
    "    \n",
    "def foo3():\n",
    "    print ('this is foo3 function')\n",
    "    print(datetime.datetime.now())  \n",
    "    \n",
    "#另一种办法是，写一个函数，负责打印时间,然后修改那三个函数\n",
    "import datetime\n",
    "def printtime():\n",
    "    print(datetime.datetime.now())  \n",
    "    \n",
    "def foo1():\n",
    "    print ('this is foo1 function')\n",
    "    printtime()\n",
    "\n",
    "def foo2():\n",
    "    print ('this is foo2 function')\n",
    "    printtime()\n",
    "    \n",
    "def foo3():\n",
    "    print ('this is foo3 function')\n",
    "    printtime()\n",
    "    \n",
    "foo1()\n",
    "foo2()\n",
    "foo3()\n",
    "#虽然不那么麻烦了，但还是每个函数都要修改，依旧很麻烦。"
   ]
  },
  {
   "cell_type": "code",
   "execution_count": 157,
   "metadata": {},
   "outputs": [
    {
     "name": "stdout",
     "output_type": "stream",
     "text": [
      "2018-07-25 15:22:39.218693\n",
      "this is foo2 function\n"
     ]
    }
   ],
   "source": [
    "#我们可以这样解决\n",
    "def foo1():\n",
    "    print ('this is foo1 function')\n",
    "\n",
    "def foo2():\n",
    "    print ('this is foo2 function')\n",
    "\n",
    "def foo3():\n",
    "    print ('this is foo3 function')\n",
    "\n",
    "def extrafoo(func):\n",
    "    print(datetime.datetime.now())\n",
    "    return func\n",
    "\n",
    "decorated=extrafoo(foo2)\n",
    "decorated()\n",
    "\n",
    "#这样每次调用还是有点麻烦，要先写一个函数接收，再调用。OK，再弄简单一些"
   ]
  },
  {
   "cell_type": "code",
   "execution_count": 167,
   "metadata": {},
   "outputs": [
    {
     "name": "stdout",
     "output_type": "stream",
     "text": [
      "from inner to execute: inner\n",
      "from inner to execute: foo1\n",
      "the foo1 result: this is foo1 function--\n",
      "extra: 2018-07-25 15:29:42.162464\n",
      "the inner result: None\n",
      "extra: 2018-07-25 15:29:42.162735\n",
      "-----------\n",
      "from inner to execute: foo1\n",
      "the foo1 result: this is foo1 function--\n",
      "extra: 2018-07-25 15:29:42.163103\n"
     ]
    }
   ],
   "source": [
    "#我们可以这样解决\n",
    "import datetime\n",
    "def extrafoo(func):\n",
    "    def inner():\n",
    "        print('from inner to execute:',func.__name__)\n",
    "        print('the',func.__name__,'result:',func())\n",
    "        print('extra:',datetime.datetime.now())\n",
    "    return inner\n",
    "\n",
    "#@是python装饰器的简便写法，也叫语法糖\n",
    "#装饰器语法糖在要被包裹的函数前声明。@后面的函数名，是包裹下边函数的函数名extrafoo\n",
    "#该语法糖省略了\n",
    "decorated=extrafoo(foo1)\n",
    "decorated()\n",
    "\n",
    "print('-----------')\n",
    "\n",
    "@extrafoo #装饰器特性，被装饰的函数定义之后立即运行。\n",
    "def foo1():\n",
    "    return 'this is foo1 function--'\n",
    "\n",
    "# 装饰器在Python使用如此方便都要归因于\n",
    "# Python的函数能像普通的对象一样能作为参数传递给其他函数\n",
    "# 可以被赋值给其他变量，可以作为返回值，可以被定义在另外一个函数内。\n",
    "foo1()"
   ]
  },
  {
   "cell_type": "markdown",
   "metadata": {},
   "source": [
    "### 12.练习"
   ]
  },
  {
   "cell_type": "markdown",
   "metadata": {},
   "source": [
    "定义一个函数，接收任意3个数字的输入，并按顺序从小到大输出"
   ]
  },
  {
   "cell_type": "code",
   "execution_count": 190,
   "metadata": {},
   "outputs": [
    {
     "name": "stdout",
     "output_type": "stream",
     "text": [
      "<class 'tuple'>\n",
      "[2, 3, 5]\n"
     ]
    }
   ],
   "source": [
    "def func(*args):\n",
    "    print(type(args))\n",
    "    print(sorted(args))\n",
    "\n",
    "func(5,2,3)"
   ]
  },
  {
   "cell_type": "markdown",
   "metadata": {},
   "source": [
    "要求创建一个函数，它可以接收，位置参数，不定长位置参数，不定长关键词参数，并按要求输出 。\n",
    "\n",
    " 输入班级名，班级特色(如’勤奋’,’颜值高’)等等不同特色，班级不同同学的姓名与年龄。\n",
    "\n",
    " 要求输出，班级名，班级特色，班级成员，班级成员的平均年龄。"
   ]
  },
  {
   "cell_type": "code",
   "execution_count": 216,
   "metadata": {},
   "outputs": [
    {
     "name": "stdout",
     "output_type": "stream",
     "text": [
      "个人信息: xiaoming 22\n",
      "高中部\n",
      "三年二班\n",
      "课程信息: python\n",
      "每节课成绩:\n",
      "Lesson1 80\n",
      "Lesson2 85\n",
      "班级名: 三年二班\n",
      "班级特色\n",
      "勤奋\n",
      "颜值高\n",
      "学生信息:\n",
      "name zhangsan\n",
      "age 20\n",
      "name1 lisi\n",
      "age1 22\n",
      "21.0\n"
     ]
    }
   ],
   "source": [
    "def scoreReport(name,age,*args,course='python',**kwargs):\n",
    "    print('个人信息:',name,age)\n",
    "    for item in args:\n",
    "        print(item)\n",
    "    print('课程信息:',course)\n",
    "    print('每节课成绩:')\n",
    "    for key,value in kwargs.items():\n",
    "        print (key,value)\n",
    "        \n",
    "scoreReport('xiaoming',22,'高中部','三年二班',Lesson1=80,Lesson2=85)\n",
    "\n",
    "#func(positional_args,keyword_args,*tuple_nonkw_args,**dict_kw_args)：\n",
    "def func(class_name,*args,**kwargs):\n",
    "    print('班级名:',class_name)\n",
    "    print('班级特色')\n",
    "    for item in args:\n",
    "        print(item)\n",
    "    print('学生信息:')\n",
    "    curSum=0\n",
    "    for key,value in kwargs.items():\n",
    "        print(key,value)\n",
    "        if(type(value)==int):\n",
    "            curSum+=value\n",
    "    print(curSum/(len(kwargs.items())/2))\n",
    "    \n",
    "func('三年二班','勤奋','颜值高',name='zhangsan',age=20,name1='lisi',age1=22)\n",
    "\n",
    "\n"
   ]
  },
  {
   "cell_type": "markdown",
   "metadata": {},
   "source": [
    "使用reduce函数实现找出一组数字列表中的最大值"
   ]
  },
  {
   "cell_type": "code",
   "execution_count": 238,
   "metadata": {},
   "outputs": [
    {
     "data": {
      "text/plain": [
       "6"
      ]
     },
     "execution_count": 238,
     "metadata": {},
     "output_type": "execute_result"
    }
   ],
   "source": [
    "from functools import reduce\n",
    "reduce(lambda x,y:max(x,y),[1,2,3,4,5,6])"
   ]
  },
  {
   "cell_type": "markdown",
   "metadata": {},
   "source": [
    "求1000以内能同时被3和7整除的数有哪些\n",
    "要求使用map和filter函数\n",
    "\n",
    "语法：filter(function,list)\n",
    "函数f的作用是对每个元素进行判断，返回true或false，true表示留下，false表示过滤\n",
    "filter()根据判断结果自动过滤掉不符合条件的元素，返回由符合条件元素组成的新list。\n",
    "filter(lambda x:True if type(x)==str else False,l2)"
   ]
  },
  {
   "cell_type": "code",
   "execution_count": 251,
   "metadata": {},
   "outputs": [
    {
     "name": "stdout",
     "output_type": "stream",
     "text": [
      "[21, 42, 63, 84, 105, 126, 147, 168, 189, 210, 231, 252, 273, 294, 315, 336, 357, 378, 399, 420, 441, 462, 483, 504, 525, 546, 567, 588, 609, 630, 651, 672, 693, 714, 735, 756, 777, 798, 819, 840, 861, 882, 903, 924, 945, 966, 987]\n",
      "[21, 42, 63, 84, 105, 126, 147, 168, 189, 210, 231, 252, 273, 294, 315, 336, 357, 378, 399, 420, 441, 462, 483, 504, 525, 546, 567, 588, 609, 630, 651, 672, 693, 714, 735, 756, 777, 798, 819, 840, 861, 882, 903, 924, 945, 966, 987]\n"
     ]
    }
   ],
   "source": [
    "#filter\n",
    "def func(n):\n",
    "    if n%21==0:\n",
    "        return n\n",
    "    else:\n",
    "        pass \n",
    "\n",
    "print(list(filter(func,range(1001))))\n",
    "\n",
    "a=list(map(func,range(1001)))\n",
    "print([i for i in a if i])"
   ]
  },
  {
   "cell_type": "markdown",
   "metadata": {},
   "source": [
    "体现闭包的思想，创建一个三层嵌套的函数，并调用。"
   ]
  },
  {
   "cell_type": "code",
   "execution_count": 255,
   "metadata": {},
   "outputs": [
    {
     "name": "stdout",
     "output_type": "stream",
     "text": [
      "third--> first\n",
      "second--> first None\n",
      "first--> first None\n"
     ]
    }
   ],
   "source": [
    "def first(first):\n",
    "    a=first\n",
    "    def second(a):\n",
    "        b=a\n",
    "        def third(b):\n",
    "            print('third-->',b)\n",
    "        print('second-->',a,third(a))\n",
    "    print('first-->',a,second(a))\n",
    "    \n",
    "first('first')"
   ]
  },
  {
   "cell_type": "markdown",
   "metadata": {},
   "source": [
    "请以round函数，定义一个偏函数roundN，调用为输入一个数字N，返回圆周率后N位的数字(提示:import math math.pi)\n",
    "请以sorted函数，定义一个偏函数sortedDESC，结果为输入一个序列，返回为按降序排列后序列"
   ]
  },
  {
   "cell_type": "code",
   "execution_count": 262,
   "metadata": {},
   "outputs": [
    {
     "name": "stdout",
     "output_type": "stream",
     "text": [
      "3.141592653589793\n",
      "[6, 5, 4, 2, 1]\n"
     ]
    }
   ],
   "source": [
    "import functools\n",
    "import math\n",
    "def roundN(n):\n",
    "    return round(math.pi,n)\n",
    "print(roundN(15))\n",
    "\n",
    "l1=[1,5,6,4,2]\n",
    "def sortedDESC(l1):\n",
    "    return sorted(l1,reverse=True)\n",
    "print(sortedDESC(l1))"
   ]
  },
  {
   "cell_type": "code",
   "execution_count": null,
   "metadata": {},
   "outputs": [],
   "source": [
    "要求使用map与filter函数，输出一个输入字符串里每个字符出现的次数"
   ]
  },
  {
   "cell_type": "code",
   "execution_count": 266,
   "metadata": {},
   "outputs": [
    {
     "name": "stdout",
     "output_type": "stream",
     "text": [
      "dsjkhsdalmvadfs\n",
      "{'d': 3, 's': 3, 'j': 1, 'k': 1, 'h': 1, 'a': 2, 'l': 1, 'm': 1, 'v': 1, 'f': 1}\n"
     ]
    }
   ],
   "source": [
    "l1=input()\n",
    "def myMap(l1):\n",
    "    return dict(map(lambda x:(x,l1.count(x)),l1))\n",
    "print(myMap(l1))"
   ]
  },
  {
   "cell_type": "markdown",
   "metadata": {},
   "source": [
    "创建一个能够快速排序的递归函数"
   ]
  },
  {
   "cell_type": "code",
   "execution_count": 270,
   "metadata": {},
   "outputs": [
    {
     "data": {
      "text/plain": [
       "[0, 1, 2, 3, 3, 3, 5, 5, 6, 7, 8, 9]"
      ]
     },
     "execution_count": 270,
     "metadata": {},
     "output_type": "execute_result"
    }
   ],
   "source": [
    "l1=[3,5,2,6,0,3,1,3,5,7,8,9]\n",
    "l2=[]\n",
    "k=0\n",
    "def my_sort(l1):\n",
    "    if len(l1)==1:\n",
    "        l2.append(l1[0])\n",
    "    else:\n",
    "        k=l1.index(min(l1))\n",
    "        l2.append(l1[k])\n",
    "        l1.pop(k)\n",
    "        my_sort(l1)\n",
    "    return l2\n",
    "my_sort(l1)"
   ]
  },
  {
   "cell_type": "markdown",
   "metadata": {},
   "source": [
    "创建一个能打印一个字典中包含所有字典对象的递归函数"
   ]
  },
  {
   "cell_type": "code",
   "execution_count": 275,
   "metadata": {},
   "outputs": [
    {
     "name": "stdout",
     "output_type": "stream",
     "text": [
      "北京\n",
      "东城\n",
      "['天坛', '东单', '王府井']\n",
      "西城\n",
      "['西单', '军博', '复兴门']\n",
      "上海\n",
      "杨浦\n",
      "['五角场', '政通路', '世界路']\n",
      "天津\n",
      "['天津港']\n"
     ]
    }
   ],
   "source": [
    "def my_dict(d):\n",
    "    for key,value in d.items():\n",
    "        print(key)\n",
    "        if type(value)==dict:\n",
    "           my_dict(value)\n",
    "        else:\n",
    "            print(value)                                                                    \n",
    "                                                                                \n",
    "dic={\"北京\":{\"东城\": [\"天坛\", \"东单\", \"王府井\"],\"西城\": [\"西单\", \"军博\", \"复兴门\"],},\n",
    "     \"上海\":{\"杨浦\":['五角场','政通路','世界路']},\n",
    "    \"天津\":['天津港']}\n",
    "my_dict(dic)                                                                                                                                                      \n",
    "                                                                                "
   ]
  },
  {
   "cell_type": "markdown",
   "metadata": {},
   "source": [
    "编写一个生成器，实现fib数列的效果\n",
    "f(0) = 1,\n",
    "f(1) = 1,\n",
    "f(n) = f(n-1) + f(n-2)"
   ]
  },
  {
   "cell_type": "code",
   "execution_count": 286,
   "metadata": {},
   "outputs": [
    {
     "name": "stdout",
     "output_type": "stream",
     "text": [
      "1\n",
      "1\n",
      "2\n",
      "3\n",
      "5\n"
     ]
    }
   ],
   "source": [
    "def fib(num):\n",
    "    n,a,b = 0,0,1\n",
    "    while n<num:\n",
    "        yield b\n",
    "        a,b = b,a+b\n",
    "        n +=1\n",
    " \n",
    "for n in fib(5):\n",
    "    print(n)"
   ]
  },
  {
   "cell_type": "code",
   "execution_count": null,
   "metadata": {},
   "outputs": [],
   "source": [
    "创建一个能接收不定长位置参数（数字）函数，返回是所有参数的和。\n",
    "\n",
    "现要求在这个函数每次调用时都有进行屏幕打印（该函数被调用）。\n",
    "\n",
    "请在不改动这个函数内部及调用的前提下实现。"
   ]
  },
  {
   "cell_type": "code",
   "execution_count": 292,
   "metadata": {},
   "outputs": [
    {
     "name": "stdout",
     "output_type": "stream",
     "text": [
      "29\n"
     ]
    }
   ],
   "source": [
    "def print_name(func):\n",
    "    def inner(*args,**kwargs):\n",
    "        return func(*args,**kwargs)\n",
    "    return inner\n",
    "\n",
    "@print_name\n",
    "def summary(*args):\n",
    "    n=0\n",
    "    sum=0\n",
    "    for n in args:\n",
    "        sum+=n\n",
    "    return sum\n",
    "\n",
    "print(summary(1,3,5,6,8,2,4))"
   ]
  }
 ],
 "metadata": {
  "kernelspec": {
   "display_name": "Python 3",
   "language": "python",
   "name": "python3"
  },
  "language_info": {
   "codemirror_mode": {
    "name": "ipython",
    "version": 3
   },
   "file_extension": ".py",
   "mimetype": "text/x-python",
   "name": "python",
   "nbconvert_exporter": "python",
   "pygments_lexer": "ipython3",
   "version": "3.6.5"
  }
 },
 "nbformat": 4,
 "nbformat_minor": 2
}

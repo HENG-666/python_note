{
 "cells": [
  {
   "cell_type": "markdown",
   "metadata": {},
   "source": [
    "## （一）Python 入门"
   ]
  },
  {
   "cell_type": "markdown",
   "metadata": {},
   "source": [
    "## Python 中的关键字\n",
    "#### 常量\n",
    "    True,False,None\n",
    "#### 函数，类，对象和模块\n",
    "    def,class,import,from,del,global,return,lambda\n",
    "#### 判断与循环\n",
    "    if,elif,else,is,in,assert,and,or,not\n",
    "#### 循环\n",
    "    for,while,continue,break,pass\n",
    "#### 异常\n",
    "    with,raise,try,except,finally,as"
   ]
  },
  {
   "cell_type": "markdown",
   "metadata": {},
   "source": [
    "## BIF: Python 的自带电池\n",
    "#### 查看\n",
    "    dir(__builtins__)\n",
    "#### IO\n",
    "    print(),open(),input()\n",
    "#### 列表与帮助\n",
    "    dir(),help()\n",
    "#### 类型与身份\n",
    "    type(),id(),memoryview(),isinstance(),insubclass()\n",
    "#### 数学运算类\n",
    "    sum,pow,round,min,max,hash\n",
    "#### 类型转换\n",
    "    int,bin,hex,oct,str,float,list,bytes\n",
    "#### 序列\n",
    "     len(),range(),zip(),map(),reduce(),filter(),\n",
    "     reversed(),sorted(),enumerate()"
   ]
  },
  {
   "cell_type": "markdown",
   "metadata": {},
   "source": [
    "## 1. Python 中标准操作符"
   ]
  },
  {
   "cell_type": "code",
   "execution_count": 44,
   "metadata": {},
   "outputs": [
    {
     "name": "stdout",
     "output_type": "stream",
     "text": [
      "a+b= 150\n",
      "a-b= -50\n",
      "a*b= 5000\n",
      "a/b= 0.5\n",
      "a%b= 50\n",
      "a//b= 0\n",
      "a**2= 2500\n",
      "a**0.5= 25.0\n"
     ]
    }
   ],
   "source": [
    "#算术操作符\n",
    "a=50;b=100\n",
    "\n",
    "print('a+b=',a+b)\n",
    "print('a-b=',a-b)\n",
    "print('a*b=',a*b)\n",
    "print('a/b=',a/b)\n",
    "print('a%b=',a%b)\n",
    "print('a//b=',a//b) #取整\n",
    "print('a**2=',a**2) #求幂\n",
    "print('a**0.5=',a*0.5)"
   ]
  },
  {
   "cell_type": "markdown",
   "metadata": {},
   "source": [
    "#### 比较运算符"
   ]
  },
  {
   "cell_type": "code",
   "execution_count": 3,
   "metadata": {},
   "outputs": [
    {
     "name": "stdout",
     "output_type": "stream",
     "text": [
      "a==b False\n",
      "a!=b True\n",
      "a>b False\n",
      "a<b True\n"
     ]
    }
   ],
   "source": [
    "#比较运算符\n",
    "a=50;b=100\n",
    "print('a==b',a==b)\n",
    "print('a!=b',a!=b)\n",
    "print('a>b',a>b)\n",
    "print('a<b',a<b)"
   ]
  },
  {
   "cell_type": "markdown",
   "metadata": {},
   "source": [
    "#### 逻辑运算符"
   ]
  },
  {
   "cell_type": "code",
   "execution_count": 5,
   "metadata": {},
   "outputs": [
    {
     "name": "stdout",
     "output_type": "stream",
     "text": [
      "a and b both greater than 50\n",
      "a or b greater than 50\n"
     ]
    }
   ],
   "source": [
    "#逻辑运算符\n",
    "a=50;b=100\n",
    "if a>=50 and b > 60:\n",
    "    print('a and b both greater than 50')\n",
    "if a>=50 or b>200:\n",
    "    print('a or b greater than 50')"
   ]
  },
  {
   "cell_type": "markdown",
   "metadata": {},
   "source": [
    "#### 成员运算符"
   ]
  },
  {
   "cell_type": "code",
   "execution_count": 6,
   "metadata": {},
   "outputs": [
    {
     "name": "stdout",
     "output_type": "stream",
     "text": [
      "True\n",
      "False\n"
     ]
    }
   ],
   "source": [
    "#成员运算符\n",
    "website='http://www.julyedu.com'\n",
    "print('com' in website)\n",
    "print('com' not in website)"
   ]
  },
  {
   "cell_type": "markdown",
   "metadata": {},
   "source": [
    "#### 身份运算符"
   ]
  },
  {
   "cell_type": "code",
   "execution_count": 7,
   "metadata": {},
   "outputs": [
    {
     "name": "stdout",
     "output_type": "stream",
     "text": [
      "websiteUrl is websiteUrl2 True\n"
     ]
    }
   ],
   "source": [
    "#身份运算符\n",
    "websiteUrl='julyedu'\n",
    "websiteUrl2='julyedu'\n",
    "print('websiteUrl is websiteUrl2', websiteUrl is websiteUrl2)"
   ]
  },
  {
   "cell_type": "markdown",
   "metadata": {},
   "source": [
    "#### 高级赋值"
   ]
  },
  {
   "cell_type": "code",
   "execution_count": 9,
   "metadata": {},
   "outputs": [
    {
     "name": "stdout",
     "output_type": "stream",
     "text": [
      "100\n",
      "100 100 100\n",
      "99 100 101\n",
      "100 101 99\n"
     ]
    }
   ],
   "source": [
    "#简单赋值\n",
    "a=100\n",
    "print(a)\n",
    "\n",
    "#多重赋值\n",
    "a=b=c=100\n",
    "print(a,b,c)\n",
    "\n",
    "#多元赋值\n",
    "a,b,c=99,100,101\n",
    "print(a,b,c)\n",
    "\n",
    "#变量交换赋值\n",
    "a,b,c=b,c,a\n",
    "print(a,b,c)"
   ]
  },
  {
   "cell_type": "markdown",
   "metadata": {},
   "source": [
    "## 2. 循环与判断"
   ]
  },
  {
   "cell_type": "code",
   "execution_count": 15,
   "metadata": {},
   "outputs": [
    {
     "name": "stdout",
     "output_type": "stream",
     "text": [
      "For loop,  0  items run\n",
      "For loop,  1  items run\n",
      "For loop,  2  items run\n",
      "For loop,  3  items run\n",
      "For loop,  4  items run\n",
      "While loop  0  items run\n",
      "While loop  1  items run\n",
      "While loop  2  items run\n",
      "While loop  3  items run\n",
      "While loop  4  items run\n",
      "For loop with continue,  0  items run\n",
      "For loop with continue,  1  items run\n",
      "For loop with continue,  3  items run\n",
      "For loop with continue,  4  items run\n",
      "While loop with break,  0  items run\n",
      "While loop with break,  1  items run\n",
      "While loop with break,  2  items run\n",
      "While loop with break,  3  items run\n",
      "While loop with break,  4  items run\n",
      "For loop with pass,  0  items run\n",
      "For loop with pass,  1  items run\n",
      "For loop with pass,  3  items run\n",
      "For loop with pass,  4  items run\n"
     ]
    }
   ],
   "source": [
    "#for 迭代循环\n",
    "#左闭右开[3,7)\n",
    "for i in range(5):\n",
    "    print('For loop, ',i,' items run')\n",
    "\n",
    "#while 条件循环\n",
    "i=0\n",
    "while i<5:\n",
    "    print('While loop ',i,' items run')\n",
    "    i+=1\n",
    "    \n",
    "#continue 跳过循环\n",
    "for i in range(5):\n",
    "    if i==2:continue\n",
    "    print('For loop with continue, ',i,' items run')\n",
    "\n",
    "#break终止循环\n",
    "i=0\n",
    "while True:\n",
    "    print('While loop with break, ',i,' items run')\n",
    "    i+=1\n",
    "    if i==5:break\n",
    "\n",
    "#pass填行\n",
    "for i in range(5):\n",
    "    if i==2:\n",
    "        pass\n",
    "    else:\n",
    "        print('For loop with pass, ',i,' items run')"
   ]
  },
  {
   "cell_type": "markdown",
   "metadata": {},
   "source": [
    "#### 判断"
   ]
  },
  {
   "cell_type": "code",
   "execution_count": 20,
   "metadata": {},
   "outputs": [
    {
     "name": "stdout",
     "output_type": "stream",
     "text": [
      "you are a adult!\n",
      "you are a adult!\n",
      "['c', 'h', 'i', 'n', 'a']\n",
      "c\n",
      ">>>h\n",
      "iiii\n",
      "n\n",
      "-aaa-\n",
      ".com域名\n"
     ]
    }
   ],
   "source": [
    "age=32\n",
    "#单if\n",
    "if age>18:\n",
    "    print('you are a adult!')\n",
    "\n",
    "#if else\n",
    "if age>18:\n",
    "    print('you are a adult!')\n",
    "else:\n",
    "    print('you are a teenager!')\n",
    "    \n",
    "#if elif\n",
    "l1=list('china')\n",
    "print(l1)\n",
    "\n",
    "for item in l1:\n",
    "    if item=='a':\n",
    "        print('-aaa-')\n",
    "    elif item=='i':\n",
    "        print('iiii')\n",
    "    elif item=='h':\n",
    "        print('>>>h')\n",
    "    else:\n",
    "        print(item)\n",
    "        \n",
    "#三元表达符\n",
    "websiteUrl='julyedu.com'\n",
    "print('.com域名') if '.com' in websiteUrl else print('其它类型域名')"
   ]
  },
  {
   "cell_type": "markdown",
   "metadata": {},
   "source": [
    "## 3. Python数值类型"
   ]
  },
  {
   "cell_type": "code",
   "execution_count": 29,
   "metadata": {},
   "outputs": [
    {
     "name": "stdout",
     "output_type": "stream",
     "text": [
      "True\n",
      "nan\n",
      "<class 'complex'>\n",
      "5.0 22.0\n",
      "-5\n",
      "-5.555\n",
      "(-5.555+0j)\n",
      "5.555\n",
      "-5.6\n"
     ]
    }
   ],
   "source": [
    "#整数类型\n",
    "a=100;b=200\n",
    "\n",
    "#进制表示与转化\n",
    "a=0b0101 #二进制，bin()\n",
    "b=0o0101 #八进制，oct()\n",
    "c=0x0101 #十六进制，hex()\n",
    "\n",
    "#浮点型\n",
    "a=5.117\n",
    "\n",
    "#科学计数法\n",
    "c=5e3\n",
    "d=73-4\n",
    "\n",
    "#数字正负无穷\n",
    "float('inf') #正无穷\n",
    "float('-inf') #负无穷\n",
    "\n",
    "1+float('inf')\n",
    "1+float('-inf')\n",
    "\n",
    "#数字正负无穷不等式：\n",
    "# 当涉及 > 和 < 运算时，\n",
    "# 所有数都比-inf大\n",
    "# 所有数都比+inf小\n",
    "#数字正负无穷等式：\n",
    "# +inf 和 +inf相等  -inf 和 -inf相等\n",
    "# inf不是nan(not a number)，inf-inf或者-inf+inf是nan。\n",
    "# inf是∞，一个比其他所有值都大的值。\n",
    "# inf是-∞，一个比其他所有值都小的值。\n",
    "print(float('inf')==float('inf'))\n",
    "print(float('inf')+float('-inf'))\n",
    "\n",
    "#复数\n",
    "#complex() 函数用于创建一个值为 real + imag * j 的复数或者转化一个字符串或数为复数。\n",
    "#如果第一个参数为字符串，则不需要指定第二个参数\n",
    "#class complex([real[, imag]])\n",
    "#real -- int, long, float或字符串；\n",
    "#imag -- int, long, float；\n",
    "a=5+22j\n",
    "print(type(a))\n",
    "print(a.real,a.imag)\n",
    "\n",
    "#操作\n",
    "#数值类型转化\n",
    "a=-5.555\n",
    "print(int(a))\n",
    "print(float(a))\n",
    "print(complex(a))\n",
    "\n",
    "#绝对值与四舍五入\n",
    "print(abs(a))\n",
    "print(round(a,1))"
   ]
  },
  {
   "cell_type": "markdown",
   "metadata": {},
   "source": [
    "## 4. Python字符串类型"
   ]
  },
  {
   "cell_type": "code",
   "execution_count": 43,
   "metadata": {},
   "outputs": [
    {
     "name": "stdout",
     "output_type": "stream",
     "text": [
      "http://www.julyedu.com\n",
      "http://www.julyedu.com\n",
      "Today's news is not a good news\n",
      "len: 22\n",
      "h\n",
      "t\n",
      "t\n",
      "p\n",
      ":\n",
      "/\n",
      "/\n",
      "w\n",
      "w\n",
      "w\n",
      ".\n",
      "j\n",
      "u\n",
      "l\n",
      "y\n",
      "e\n",
      "d\n",
      "u\n",
      ".\n",
      "c\n",
      "o\n",
      "m\n",
      "h\n",
      "wwjleucm\n",
      "http://www.julyedu.com中国领先的AI教育平台\n",
      "http://www.julyedu.comhttp://www.julyedu.comhttp://www.julyedu.com\n",
      "0\n",
      "31\n",
      "http://www.julyedu.com中国领先的AI教育平台\n",
      "http://www.julyedu.com中国领先的人工智能教育平台\n",
      "t 2\n",
      "平台 1\n",
      "32\n",
      "Http://Www.Julyedu.Com中国领先的Ai教育平台\n",
      "HTTP://WWW.JULYEDU.COM中国领先的AI教育平台\n",
      "http://www.julyedu.com中国领先的ai教育平台\n",
      "test lstrip\n",
      "   test rstrip\n",
      "test rstrip\n",
      "abc isalpha True\n",
      "abc isdigit False\n",
      "abc isidentifier True\n",
      "<class 'bytes'>\n",
      "b'abc'\n",
      "<class 'str'>\n",
      "abc\n"
     ]
    }
   ],
   "source": [
    "#初始化及转义\n",
    "#单引与双引在表示字符串时没有区别。但字符串开头结尾必须使用同一种引号。否则报错\n",
    "url='http://www.julyedu.com'\n",
    "print(url)\n",
    "url=\"http://www.julyedu.com\"\n",
    "print(url)\n",
    "\n",
    "#如果是字符串包含单引号或者双引号，则需要对其转义\n",
    "sentence='Today\\'s news is not a good news'\n",
    "print(sentence)\n",
    "\n",
    "#字符串属性\n",
    "print('len:',len(url))\n",
    "\n",
    "#访问 属性\n",
    "for item in url:\n",
    "    print(item)\n",
    "    \n",
    "#访问 索引Indexing\n",
    "print(url[0])\n",
    "\n",
    "#访问切片\n",
    "#[::] 三个参数分别为：开始索引位置，结束索引位置，步长\n",
    "print(url[7:22:2])\n",
    "\n",
    "#格式化访问\n",
    "url='http://www.{}.com'\n",
    "companyName='julyedu'\n",
    "print(url.format(companyName)+'中国领先的AI教育平台')\n",
    "print(url.format(companyName)*3)\n",
    "\n",
    "#查找与替换\n",
    "url=url.format(companyName)+'中国领先的AI教育平台'\n",
    "print(url.find('http'))\n",
    "print(url.find('平台'))\n",
    "print(url)\n",
    "print(url.replace('AI','人工智能'))\n",
    "\n",
    "#统计\n",
    "print('t',url.count('t'))\n",
    "print('平台',url.count('平台'))\n",
    "\n",
    "#获取索引\n",
    "print(url.index('台'))\n",
    "\n",
    "#大小写\n",
    "print(url.title()) #首字母大写\n",
    "print(url.upper()) #全部字母大写\n",
    "print(url.lower()) #全部字母小写\n",
    "\n",
    "#去空格\n",
    "url_1='   test lstrip'\n",
    "print(url_1.lstrip()) #截掉字符串左边的空格或指定字符。\n",
    "url_2='   test rstrip   '\n",
    "print(url_2.rstrip()) #截掉字符串右边的空格或指定字符。\n",
    "url_2='   test rstrip   '\n",
    "print(url_2.strip()) #截掉字符串左边和右边的空格或指定字符\n",
    "\n",
    "s='abc'\n",
    "print('abc isalpha',s.isalpha()) #是否由字母组成\n",
    "print('abc isdigit',s.isdigit()) #是否由数字组成\n",
    "print('abc isidentifier',s.isidentifier()) #是否是有效的 Python 标识符，可用来判断变量名是否合法。\n",
    "\n",
    "#编码与解码\n",
    "s1=s.encode()\n",
    "print(type(s1))\n",
    "print(s1)\n",
    "s2=s1.decode()\n",
    "print(type(s2))\n",
    "print(s2)\n"
   ]
  },
  {
   "cell_type": "markdown",
   "metadata": {},
   "source": [
    "## 5. 练习题"
   ]
  },
  {
   "cell_type": "markdown",
   "metadata": {},
   "source": [
    "##### 1. 求从1到100的数字中所有能被3整除的数字的有哪些"
   ]
  },
  {
   "cell_type": "code",
   "execution_count": 2,
   "metadata": {},
   "outputs": [
    {
     "name": "stdout",
     "output_type": "stream",
     "text": [
      "15\n",
      "30\n",
      "45\n",
      "60\n",
      "75\n",
      "90\n"
     ]
    }
   ],
   "source": [
    "for i in range(1,101):\n",
    "    if i % 15 == 0:\n",
    "        print(i)"
   ]
  },
  {
   "cell_type": "markdown",
   "metadata": {},
   "source": [
    "#### 2. 输入一个字符串返回满足以下条件的字符串\n",
    "如果字符串长度大等于3，添加 'ing' 到字符串的末尾\n",
    "如果字符串是以 'ing' 结尾的，就在末尾添加 'ly'\n",
    "如果字符串长度小于3，返回原字符串"
   ]
  },
  {
   "cell_type": "code",
   "execution_count": 5,
   "metadata": {},
   "outputs": [
    {
     "name": "stdout",
     "output_type": "stream",
     "text": [
      "sding\n",
      "sdingly\n"
     ]
    }
   ],
   "source": [
    "s = input()\n",
    "\n",
    "if len(s)>3:\n",
    "    if s.endswith(\"ing\"):\n",
    "        s += \"ly\"\n",
    "    else:\n",
    "        s += \"ing\"\n",
    "else:\n",
    "    pass\n",
    "\n",
    "print(s)"
   ]
  },
  {
   "cell_type": "markdown",
   "metadata": {},
   "source": [
    "#### 3.判断是否为回文\n",
    "提示：回文：62426是回文数字"
   ]
  },
  {
   "cell_type": "code",
   "execution_count": 8,
   "metadata": {},
   "outputs": [
    {
     "name": "stdout",
     "output_type": "stream",
     "text": [
      "abcba\n",
      "True\n"
     ]
    }
   ],
   "source": [
    "s = input()\n",
    "if s == s[::-1]:\n",
    "    print(\"True\")\n",
    "else:\n",
    "    print(\"False\")"
   ]
  },
  {
   "cell_type": "markdown",
   "metadata": {},
   "source": [
    "#### 4. 输入一个字符串，返回满足以下条件字符串\n",
    "找到字符串中的子串 'not' 和 'bad’\n",
    "如果 'bad' 出现在 'not' 后面，就把 'not' ... 'bad' 之间包含的所有字符串替换成 'good'"
   ]
  },
  {
   "cell_type": "code",
   "execution_count": 13,
   "metadata": {},
   "outputs": [
    {
     "name": "stdout",
     "output_type": "stream",
     "text": [
      "Study is not good bad way. \n"
     ]
    }
   ],
   "source": [
    "a = 'Study is not only to learn, actually i think this is a bad way. '\n",
    "if a.find(\"bad\") > a.find(\"not\"):\n",
    "    b = a[0:a.find(\"not\")+3] + \" good \" + a[a.find(\"bad\"):]\n",
    "print(b)"
   ]
  },
  {
   "cell_type": "markdown",
   "metadata": {},
   "source": [
    "#### 5. 输入一个字符串，把字符串拆分成两个等分\n",
    "如果字符串长度是偶数，前一半和后一半的长度是相同的\n",
    "如果字符串长度是奇数，则多出的一个字符加到前一半，如：'abcde'，前一半是'abc'，后一半是'de'"
   ]
  },
  {
   "cell_type": "code",
   "execution_count": 22,
   "metadata": {},
   "outputs": [
    {
     "name": "stdout",
     "output_type": "stream",
     "text": [
      "abcde\n",
      "2\n",
      "abc\n",
      "de\n"
     ]
    }
   ],
   "source": [
    "s = input()\n",
    "idx = len(s)//2\n",
    "print(int(a))\n",
    "if len(s)/2 == 0:\n",
    "    c = s[0:idx]\n",
    "    d = s[idx:]\n",
    "else:\n",
    "    c = s[0:idx+1]\n",
    "    d = s[idx+1:]\n",
    "print(c)\n",
    "print(d)"
   ]
  },
  {
   "cell_type": "markdown",
   "metadata": {},
   "source": [
    "#### 6.输入一个字符串返回满足以下条件的字符串\n",
    "找出与字符串的第一个字母相同的字母，把它们替换成 '*'，除了第一个字母本身以外\n",
    "例如: 输入'babble'， 返回 'ba**le'"
   ]
  },
  {
   "cell_type": "code",
   "execution_count": 27,
   "metadata": {},
   "outputs": [
    {
     "name": "stdout",
     "output_type": "stream",
     "text": [
      "iliviwhdkoi\n",
      "il*v*whdko*\n"
     ]
    }
   ],
   "source": [
    "\n",
    "s = input()\n",
    "first = s[0]\n",
    "a = first + s[1:].replace(first,\"*\")\n",
    "print(a)"
   ]
  },
  {
   "cell_type": "markdown",
   "metadata": {},
   "source": [
    "#### 7. 输入一个字符串 返回满足以下条件的字符串\n",
    "由字符串的最前面两个字母和最后两个字母组成的字符串。\n",
    "例如： 'spring' 返回 'spng'， 'is' 返回 'is’\n",
    "当输入的字符串长度小于2时，返回空字符串"
   ]
  },
  {
   "cell_type": "code",
   "execution_count": 38,
   "metadata": {},
   "outputs": [
    {
     "name": "stdout",
     "output_type": "stream",
     "text": [
      "jik\n",
      "jiik\n"
     ]
    }
   ],
   "source": [
    "s = input()\n",
    "if len(s) > 2:\n",
    "    a = s[0:2] + s[-2:]\n",
    "elif len(s) == 2:\n",
    "    a = s\n",
    "else:\n",
    "    a = \"\"\n",
    "print(a)"
   ]
  },
  {
   "cell_type": "markdown",
   "metadata": {},
   "source": [
    "#### 8. 输入字符串 a 和 b,返回添加以下条件的字符串\n",
    "交换两个字符串的最前面的两个字母\n",
    "使用空格把两个字符串分隔后合并成一个字符串\n",
    "字符串 a 和 b 的长度都大等于 2"
   ]
  },
  {
   "cell_type": "code",
   "execution_count": 39,
   "metadata": {},
   "outputs": [
    {
     "name": "stdout",
     "output_type": "stream",
     "text": [
      "qqwwgajkd\n",
      "fbjsfndd\n",
      "fbwwgajkd\n",
      "qqjsfndd\n",
      "qqwwgajkd fbjsfndd\n"
     ]
    }
   ],
   "source": [
    "a = input()\n",
    "b = input()\n",
    "if len(a)>2 and len(b)>2:\n",
    "    c = b[0:2] + a[2:]\n",
    "    d = a[0:2] + b[2:]\n",
    "    e = a + \" \" + b\n",
    "else:\n",
    "    pass\n",
    "print(c)\n",
    "print(d)\n",
    "print(e)"
   ]
  },
  {
   "cell_type": "markdown",
   "metadata": {},
   "source": [
    "#### 9. 落球计算\n",
    "一球从100米高度自由落下，假设每次落地后反跳回原高度的一半；再落下，再弹起。请问第6次落地后会弹起多少米？\n",
    "使用for与while循环完成"
   ]
  },
  {
   "cell_type": "code",
   "execution_count": 42,
   "metadata": {},
   "outputs": [
    {
     "name": "stdout",
     "output_type": "stream",
     "text": [
      "1.5625\n"
     ]
    }
   ],
   "source": [
    "s = 100\n",
    "i = 1\n",
    "while True:\n",
    "    s /= 2\n",
    "    i += 1\n",
    "    if i > 6:\n",
    "        break\n",
    "print(s)\n",
    "\n",
    "for i in range(1,7):\n",
    "    s /= 2\n",
    "    if i <= 6:\n",
    "        continue\n",
    "print(s)"
   ]
  },
  {
   "cell_type": "markdown",
   "metadata": {},
   "source": [
    "#### 10. 求两个数字之间的素数\n",
    "素数：只能被1及自己整除的数，如3，7，13，23等"
   ]
  },
  {
   "cell_type": "code",
   "execution_count": 52,
   "metadata": {},
   "outputs": [
    {
     "name": "stdout",
     "output_type": "stream",
     "text": [
      "1\n",
      "34\n",
      "2 素数\n",
      "3 素数\n",
      "5 素数\n",
      "7 素数\n",
      "11 素数\n",
      "13 素数\n",
      "17 素数\n",
      "19 素数\n",
      "23 素数\n",
      "29 素数\n",
      "31 素数\n"
     ]
    }
   ],
   "source": [
    "a = input()\n",
    "b = input()\n",
    "for i in range(int(a), int(b)):\n",
    "    for j in range(2, i+1):\n",
    "        if i % j == 0 and j < i:\n",
    "            print(i,\"非素数\")\n",
    "            break\n",
    "        elif i == j:\n",
    "            print(i, \"素数\")"
   ]
  }
 ],
 "metadata": {
  "kernelspec": {
   "display_name": "Python 3",
   "language": "python",
   "name": "python3"
  },
  "language_info": {
   "codemirror_mode": {
    "name": "ipython",
    "version": 3
   },
   "file_extension": ".py",
   "mimetype": "text/x-python",
   "name": "python",
   "nbconvert_exporter": "python",
   "pygments_lexer": "ipython3",
   "version": "3.6.5"
  }
 },
 "nbformat": 4,
 "nbformat_minor": 2
}
